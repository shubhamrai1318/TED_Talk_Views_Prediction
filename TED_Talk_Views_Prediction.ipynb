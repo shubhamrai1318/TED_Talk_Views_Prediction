{
  "nbformat": 4,
  "nbformat_minor": 0,
  "metadata": {
    "colab": {
      "provenance": [],
      "collapsed_sections": [
        "vncDsAP0Gaoa",
        "FJNUwmbgGyua",
        "w6K7xa23Elo4",
        "yQaldy8SH6Dl",
        "mDgbUHAGgjLW",
        "HhfV-JJviCcP",
        "Y3lxredqlCYt",
        "3RnN4peoiCZX",
        "x71ZqKXriCWQ",
        "7hBIi_osiCS2",
        "JlHwYmJAmNHm",
        "35m5QtbWiB9F",
        "PoPl-ycgm1ru",
        "H0kj-8xxnORC",
        "nA9Y7ga8ng1Z",
        "dauF4eBmngu3",
        "bKJF3rekwFvQ",
        "MSa1f5Uengrz",
        "0wOQAZs5pc--",
        "K5QZ13OEpz2H",
        "lQ7QKXXCp7Bj",
        "448CDAPjqfQr",
        "KSlN3yHqYklG",
        "t6dVpIINYklI",
        "ijmpgYnKYklI",
        "-JiQyfWJYklI",
        "EM7whBJCYoAo",
        "4Of9eVA-YrdM",
        "iky9q4vBYrdO",
        "bamQiAODYuh1",
        "QHF8YVU7Yuh3",
        "GwzvFGzlYuh3",
        "qYpmQ266Yuh3",
        "OH-pJp9IphqM",
        "bbFf2-_FphqN",
        "_ouA3fa0phqN",
        "PIIx-8_IphqN",
        "t27r6nlMphqO",
        "r2jJGEOYphqO",
        "b0JNsNcRphqO",
        "BZR9WyysphqO",
        "jj7wYXLtphqO",
        "eZrbJ2SmphqO",
        "rFu4xreNphqO",
        "YJ55k-q6phqO",
        "gCFgpxoyphqP",
        "OVtJsKN_phqQ",
        "lssrdh5qphqQ",
        "U2RJ9gkRphqQ",
        "1M8mcRywphqQ",
        "tgIPom80phqQ",
        "JMzcOPDDphqR",
        "x-EpHcCOp1ci",
        "X_VqEhTip1ck",
        "8zGJKyg5p1ck",
        "PVzmfK_Ep1ck",
        "n3dbpmDWp1ck",
        "ylSl6qgtp1ck",
        "ZWILFDl5p1ck",
        "M7G43BXep1ck",
        "Ag9LCva-p1cl",
        "E6MkPsBcp1cl",
        "2cELzS2fp1cl",
        "3MPXvC8up1cl",
        "NC_X3p0fY2L0",
        "UV0SzAkaZNRQ",
        "YPEH6qLeZNRQ",
        "q29F0dvdveiT",
        "EXh0U9oCveiU",
        "22aHeOlLveiV",
        "g-ATYxFrGrvw",
        "Yfr_Vlr8HBkt",
        "8yEUt7NnHlrM",
        "tEA2Xm5dHt1r",
        "I79__PHVH19G",
        "Ou-I18pAyIpj",
        "fF3858GYyt-u",
        "4_0_7-oCpUZd",
        "hwyV_J3ipUZe",
        "3yB-zSqbpUZe",
        "dEUvejAfpUZe",
        "Fd15vwWVpUZf",
        "bn_IUdTipZyH",
        "49K5P_iCpZyH",
        "Nff-vKELpZyI",
        "kLW572S8pZyI",
        "dWbDXHzopZyI",
        "yLjJCtPM0KBk",
        "xiyOF9F70UgQ",
        "7wuGOrhz0itI",
        "id1riN9m0vUs",
        "578E2V7j08f6",
        "89xtkJwZ18nB",
        "67NQN5KX2AMe",
        "Iwf50b-R2tYG",
        "GMQiZwjn3iu7",
        "WVIkgGqN3qsr",
        "XkPnILGE3zoT",
        "Hlsf0x5436Go",
        "mT9DMSJo4nBL",
        "c49ITxTc407N",
        "OeJFEK0N496M",
        "9ExmJH0g5HBk",
        "cJNqERVU536h",
        "k5UmGsbsOxih",
        "T0VqWOYE6DLQ",
        "qBMux9mC6MCf",
        "-oLEiFgy-5Pf",
        "C74aWNz2AliB",
        "2DejudWSA-a0",
        "pEMng2IbBLp7",
        "rAdphbQ9Bhjc",
        "TNVZ9zx19K6k",
        "nqoHp30x9hH9",
        "rMDnDkt2B6du",
        "yiiVWRdJDDil",
        "1UUpS68QDMuG",
        "kexQrXU-DjzY",
        "T5CmagL3EC8N",
        "BhH2vgX9EjGr",
        "qjKvONjwE8ra",
        "P1XJ9OREExlT",
        "VFOzZv6IFROw",
        "TIqpNgepFxVj",
        "VfCC591jGiD4",
        "OB4l2ZhMeS1U",
        "ArJBuiUVfxKd",
        "4qY1EAkEfxKe",
        "PiV4Ypx8fxKe",
        "TfvqoZmBfxKf",
        "dJ2tPlVmpsJ0",
        "JWYfwnehpsJ1",
        "-jK_YjpMpsJ2",
        "HAih1iBOpsJ2",
        "zVGeBEFhpsJ2",
        "bmKjuQ-FpsJ3",
        "Fze-IPXLpx6K",
        "7AN1z2sKpx6M",
        "9PIHJqyupx6M",
        "_-qAgymDpx6N",
        "Z-hykwinpx6N",
        "h_CCil-SKHpo",
        "cBFFvTBNJzUa",
        "HvGl1hHyA_VK",
        "EyNgTHvd2WFk",
        "KH5McJBi2d8v",
        "iW_Lq9qf2h6X",
        "-Kee-DAl2viO",
        "gIfDvo9L0UH2"
      ],
      "include_colab_link": true
    },
    "kernelspec": {
      "name": "python3",
      "display_name": "Python 3"
    },
    "language_info": {
      "name": "python"
    }
  },
  "cells": [
    {
      "cell_type": "markdown",
      "metadata": {
        "id": "view-in-github",
        "colab_type": "text"
      },
      "source": [
        "<a href=\"https://colab.research.google.com/github/shubhamrai1318/TED_Talk_Views_Prediction/blob/main/TED_Talk_Views_Prediction.ipynb\" target=\"_parent\"><img src=\"https://colab.research.google.com/assets/colab-badge.svg\" alt=\"Open In Colab\"/></a>"
      ]
    },
    {
      "cell_type": "markdown",
      "source": [
        "# **Project Name**    -\n",
        "\n"
      ],
      "metadata": {
        "id": "vncDsAP0Gaoa"
      }
    },
    {
      "cell_type": "markdown",
      "source": [
        "##### **Project Type**    - Regression\n",
        "##### **Contribution**    - Individual\n"
      ],
      "metadata": {
        "id": "beRrZCGUAJYm"
      }
    },
    {
      "cell_type": "markdown",
      "source": [
        "# **Project Summary -**"
      ],
      "metadata": {
        "id": "FJNUwmbgGyua"
      }
    },
    {
      "cell_type": "markdown",
      "source": [
        "**TED stands for Technology Entertainment And Design**\n",
        "\n",
        "TED is an unprofitable organisation that post videos online in Free. TED is devoted to spreading powerful ideas on just about any topic. These datasets contain over 4,000+ TED talks including transcripts in many languages. It was basically started as a conference in 1984 that designed by Richard saul wurman but due to some reasons it was unsuccesful. After 6 years in 1990 ,it back with a bang. In TED, speaker share their views and ideas to the society in 18 minutes. As of 2015, TED and its sister TEDx chapters have published more than 2000 talks for free consumption by the masses and its speaker list boasts of the likes of Al Gore, Jimmy Wales, Shahrukh Khan, and Bill Gates.\n",
        "\n",
        "The goal of this project is to develop a predictive model to estimate the number of views that a TED Talk video is likely to receive. By leveraging various features and characteristics of TED Talks, we aim to create a reliable model that can accurately forecast the popularity of these talks.\n",
        "\n",
        "To achieve this, we will gather a dataset containing information about various TED Talks, such as the speaker's background, the topic of the talk, the duration, the number of languages it is available in, and other relevant attributes. Additionally, we will include information on the number of views each TED Talk has received as the target variable.\n",
        "\n",
        "The project will involve several key steps:\n",
        "\n",
        "**Data Collection:** We will collect a comprehensive dataset containing TED Talk information, including both descriptive features and the corresponding number of views.\n",
        "\n",
        "**Data Preprocessing:** The collected data will undergo preprocessing steps, such as handling missing values, encoding categorical variables, and normalizing numerical features. This ensures that the data is in a suitable format for model training and evaluation.\n",
        "\n",
        "**Feature Engineering:** We will explore and engineer additional relevant features from the existing dataset. This could involve extracting insights from the talk's title, speaker's profession, or incorporating external data sources to enhance the predictive power of the model.\n",
        "\n",
        "**Model Selection:** We will evaluate and compare different regression models suitable for predicting the number of views. This may include algorithms such as linear regression, decision trees, random forests, or gradient boosting.\n",
        "\n",
        "**Model Training and Evaluation:** The selected model will be trained on the prepared dataset and assessed using appropriate evaluation metrics such as mean squared error (MSE), root mean squared error (RMSE), or R-squared. We will employ techniques like cross-validation to ensure the model's generalizability.\n",
        "\n",
        "**Hyperparameter Tuning:** We will optimize the model's hyperparameters using techniques like grid search or randomized search to improve its performance.\n",
        "\n",
        "**Final Model Deployment:** Once the best-performing model is identified, it will be deployed to make predictions on new and unseen TED Talks. The model will be packaged into a user-friendly interface where users can input the necessary information about a talk, and it will provide an estimate of the expected number of views.\n",
        "\n",
        "By accurately predicting the number of views for TED Talks, this project aims to provide valuable insights to content creators, speakers, and event organizers. It can help them understand the factors that contribute to a talk's popularity and optimize their content strategy accordingly.\n",
        "\n",
        "**Slogan Of TED :- IDEAS WORTH SPREADING ⏰**"
      ],
      "metadata": {
        "id": "F6v_1wHtG2nS"
      }
    },
    {
      "cell_type": "markdown",
      "source": [
        "# **GitHub Link -**"
      ],
      "metadata": {
        "id": "w6K7xa23Elo4"
      }
    },
    {
      "cell_type": "markdown",
      "source": [
        "https://github.com/shubhamrai1318/TED_Talk_Views_Prediction"
      ],
      "metadata": {
        "id": "h1o69JH3Eqqn"
      }
    },
    {
      "cell_type": "markdown",
      "source": [
        "# **Problem Statement**\n"
      ],
      "metadata": {
        "id": "yQaldy8SH6Dl"
      }
    },
    {
      "cell_type": "markdown",
      "source": [
        "TED Talks are influential presentations delivered by experts and thought leaders on various topics. The number of views a TED Talk receives is a significant indicator of its impact and reach. **Therefore, the problem at hand is to develop a predictive model that can accurately estimate the number of views a TED Talk video is likely to receive. The objective is to build a robust and reliable model that can forecast the popularity and reach of TED Talks based on various characteristics and features associated with the talks.**\n",
        "\n",
        "**The successful completion of this project involves the following key components:**\n",
        "\n",
        "1.Data Collection\n",
        "\n",
        "2.Data Preprocessing\n",
        "\n",
        "3.Feature Engineering\n",
        "\n",
        "4.Model Development\n",
        "\n",
        "5.Model Training and Evaluation\n",
        "\n",
        "6.Hyperparameter\n",
        "\n",
        "7.Model Deployment\n",
        "\n",
        "The ultimate goal of this project is to deliver a predictive model that accurately estimates the number of views for TED Talks. This model will provide valuable insights to content creators, speakers, and event organizers, helping them understand the factors that contribute to a talk's popularity and enabling them to optimize their content strategy and maximize their impact.\n",
        "\n",
        "\n",
        "\n"
      ],
      "metadata": {
        "id": "DpeJGUA3kjGy"
      }
    },
    {
      "cell_type": "markdown",
      "source": [
        "# **General Guidelines** : -  "
      ],
      "metadata": {
        "id": "mDgbUHAGgjLW"
      }
    },
    {
      "cell_type": "markdown",
      "source": [
        "1.   Well-structured, formatted, and commented code is required.\n",
        "2.   Exception Handling, Production Grade Code & Deployment Ready Code will be a plus. Those students will be awarded some additional credits.\n",
        "     \n",
        "     The additional credits will have advantages over other students during Star Student selection.\n",
        "       \n",
        "             [ Note: - Deployment Ready Code is defined as, the whole .ipynb notebook should be executable in one go\n",
        "                       without a single error logged. ]\n",
        "\n",
        "3.   Each and every logic should have proper comments.\n",
        "4. You may add as many number of charts you want. Make Sure for each and every chart the following format should be answered.\n",
        "        \n",
        "\n",
        "```\n",
        "# Chart visualization code\n",
        "```\n",
        "            \n",
        "\n",
        "*   Why did you pick the specific chart?\n",
        "*   What is/are the insight(s) found from the chart?\n",
        "* Will the gained insights help creating a positive business impact?\n",
        "Are there any insights that lead to negative growth? Justify with specific reason.\n",
        "\n",
        "5. You have to create at least 15 logical & meaningful charts having important insights.\n",
        "\n",
        "\n",
        "[ Hints : - Do the Vizualization in  a structured way while following \"UBM\" Rule.\n",
        "\n",
        "U - Univariate Analysis,\n",
        "\n",
        "B - Bivariate Analysis (Numerical - Categorical, Numerical - Numerical, Categorical - Categorical)\n",
        "\n",
        "M - Multivariate Analysis\n",
        " ]\n",
        "\n",
        "\n",
        "\n",
        "\n",
        "\n",
        "6. You may add more ml algorithms for model creation. Make sure for each and every algorithm, the following format should be answered.\n",
        "\n",
        "\n",
        "*   Explain the ML Model used and it's performance using Evaluation metric Score Chart.\n",
        "\n",
        "\n",
        "*   Cross- Validation & Hyperparameter Tuning\n",
        "\n",
        "*   Have you seen any improvement? Note down the improvement with updates Evaluation metric Score Chart.\n",
        "\n",
        "*   Explain each evaluation metric's indication towards business and the business impact pf the ML model used.\n",
        "\n",
        "\n",
        "\n",
        "\n",
        "\n",
        "\n",
        "\n",
        "\n",
        "\n",
        "\n",
        "\n",
        "\n",
        "\n",
        "\n",
        "\n",
        "\n",
        "\n",
        "\n"
      ],
      "metadata": {
        "id": "ZrxVaUj-hHfC"
      }
    },
    {
      "cell_type": "markdown",
      "source": [
        "# ***Let's Begin !***"
      ],
      "metadata": {
        "id": "O_i_v8NEhb9l"
      }
    },
    {
      "cell_type": "markdown",
      "source": [
        "## ***1. Know Your Data***"
      ],
      "metadata": {
        "id": "HhfV-JJviCcP"
      }
    },
    {
      "cell_type": "markdown",
      "source": [
        "### Import Libraries"
      ],
      "metadata": {
        "id": "Y3lxredqlCYt"
      }
    },
    {
      "cell_type": "code",
      "source": [
        "# Import Libraries\n",
        "import numpy as np                                                                      # numerical computations\n",
        "import pandas as pd                                                                     # data manipulations\n",
        "import missingno  as msno\n",
        "\n",
        "# Data visualization libraries\n",
        "import matplotlib.pyplot as plt                                                         # visualize with plots\n",
        "%matplotlib inline\n",
        "import matplotlib\n",
        "import seaborn as sns\n",
        "plt.style.use('seaborn-white')\n",
        "import plotly.express as px\n",
        "import plotly.graph_objects as go\n",
        "\n",
        "# Datetime library\n",
        "from datetime import datetime\n",
        "import datetime as dt\n",
        "\n",
        "# preprocessing libraries\n",
        "from sklearn.preprocessing import (MinMaxScaler,StandardScaler,OneHotEncoder)           # Scale the data\n",
        "from sklearn.preprocessing import (OrdinalEncoder,FunctionTransformer,PowerTransformer)\n",
        "from sklearn.model_selection import train_test_split                                    # split train and test data\n",
        "from sklearn.model_selection import (cross_val_score,TimeSeriesSplit)\n",
        "\n",
        "# Machine Learning models\n",
        "from sklearn.linear_model import LinearRegression                                       # regression model\n",
        "from sklearn.ensemble import RandomForestRegressor                                      # random forest model\n",
        "from sklearn.svm import SVR                                                             # support vector regressor\n",
        "from sklearn.linear_model import (Lasso,Ridge,ElasticNet,LassoCV,RidgeCV,ElasticNetCV)\n",
        "from sklearn.model_selection import GridSearchCV\n",
        "\n",
        "# for pipelining and decission tree\n",
        "from sklearn.compose import ColumnTransformer\n",
        "from sklearn.pipeline import Pipeline\n",
        "from sklearn.pipeline import make_pipeline\n",
        "from sklearn import tree\n",
        "\n",
        "# Importing XGB Regressor\n",
        "from xgboost import XGBRegressor                                                         # xgboost model\n",
        "\n",
        "# Metrics libraries for model evaluation\n",
        "from sklearn import metrics\n",
        "from sklearn.metrics import(r2_score,mean_squared_error,                                 # importing required metrics\n",
        "                            mean_absolute_percentage_error,mean_absolute_error)\n",
        "\n",
        "# setting up styles and rcparams\n",
        "# sns.set_style('darkgrid')\n",
        "# matplotlib.rcParams['font.size']=15\n",
        "matplotlib.rcParams['figure.figsize']=(8,4)\n",
        "# matplotlib.rcParams['figure.facecolor']='#000000'\n",
        "\n",
        "# warning modules\n",
        "import warnings                                                                           # do not disturb mode\n",
        "warnings.filterwarnings('ignore')\n"
      ],
      "metadata": {
        "id": "M8Vqi-pPk-HR",
        "colab": {
          "base_uri": "https://localhost:8080/"
        },
        "outputId": "0121f020-54d5-4d74-b5cb-aa3cecffc4ec"
      },
      "execution_count": 2,
      "outputs": [
        {
          "output_type": "stream",
          "name": "stderr",
          "text": [
            "<ipython-input-2-399a963deb1d>:11: MatplotlibDeprecationWarning: The seaborn styles shipped by Matplotlib are deprecated since 3.6, as they no longer correspond to the styles shipped by seaborn. However, they will remain available as 'seaborn-v0_8-<style>'. Alternatively, directly use the seaborn API instead.\n",
            "  plt.style.use('seaborn-white')\n"
          ]
        }
      ]
    },
    {
      "cell_type": "markdown",
      "source": [
        "### Dataset Loading"
      ],
      "metadata": {
        "id": "3RnN4peoiCZX"
      }
    },
    {
      "cell_type": "code",
      "source": [
        "# Load Dataset\n",
        "# Mounting the google drive\n",
        "from google.colab import drive\n",
        "drive.mount('/content/drive')"
      ],
      "metadata": {
        "id": "4CkvbW_SlZ_R",
        "colab": {
          "base_uri": "https://localhost:8080/"
        },
        "outputId": "de78521f-dce5-4c90-94ca-18e4749b7421"
      },
      "execution_count": 3,
      "outputs": [
        {
          "output_type": "stream",
          "name": "stdout",
          "text": [
            "Mounted at /content/drive\n"
          ]
        }
      ]
    },
    {
      "cell_type": "code",
      "source": [
        "# Loading the dataset\n",
        "file_path = '/content/drive/MyDrive/Data CsvFile/data_ted_talks.csv'\n",
        "df = pd.read_csv(file_path,engine=\"python\",\n",
        "                 error_bad_lines=False)"
      ],
      "metadata": {
        "colab": {
          "base_uri": "https://localhost:8080/"
        },
        "id": "y5zBNbCkJW9x",
        "outputId": "4f4b4573-db0f-4a45-e87b-5682745fabb2"
      },
      "execution_count": 4,
      "outputs": [
        {
          "output_type": "stream",
          "name": "stderr",
          "text": [
            "Skipping line 1506: unexpected end of data\n"
          ]
        }
      ]
    },
    {
      "cell_type": "markdown",
      "source": [
        "### Dataset First View"
      ],
      "metadata": {
        "id": "x71ZqKXriCWQ"
      }
    },
    {
      "cell_type": "code",
      "source": [
        "# Dataset First Look\n",
        "df.head()\n"
      ],
      "metadata": {
        "id": "LWNFOSvLl09H",
        "colab": {
          "base_uri": "https://localhost:8080/",
          "height": 0
        },
        "outputId": "4ceee87c-879f-4577-c94f-99706be70c8d"
      },
      "execution_count": 5,
      "outputs": [
        {
          "output_type": "execute_result",
          "data": {
            "text/plain": [
              "   talk_id                            title         speaker_1  \\\n",
              "0        1      Averting the climate crisis           Al Gore   \n",
              "1       92  The best stats you've ever seen      Hans Rosling   \n",
              "2        7                 Simplicity sells       David Pogue   \n",
              "3       53              Greening the ghetto     Majora Carter   \n",
              "4       66      Do schools kill creativity?  Sir Ken Robinson   \n",
              "\n",
              "              all_speakers                                    occupations  \\\n",
              "0           {0: 'Al Gore'}                      {0: ['climate advocate']}   \n",
              "1      {0: 'Hans Rosling'}  {0: ['global health expert; data visionary']}   \n",
              "2       {0: 'David Pogue'}                  {0: ['technology columnist']}   \n",
              "3     {0: 'Majora Carter'}    {0: ['activist for environmental justice']}   \n",
              "4  {0: 'Sir Ken Robinson'}                    {0: ['author', 'educator']}   \n",
              "\n",
              "                                      about_speakers     views recorded_date  \\\n",
              "0  {0: 'Nobel Laureate Al Gore focused the world’...   3523392    2006-02-25   \n",
              "1  {0: 'In Hans Rosling’s hands, data sings. Glob...  14501685    2006-02-22   \n",
              "2  {0: 'David Pogue is the personal technology co...   1920832    2006-02-24   \n",
              "3  {0: 'Majora Carter redefined the field of envi...   2664069    2006-02-26   \n",
              "4  {0: \"Creativity expert Sir Ken Robinson challe...  65051954    2006-02-25   \n",
              "\n",
              "  published_date    event native_lang  \\\n",
              "0     2006-06-27  TED2006          en   \n",
              "1     2006-06-27  TED2006          en   \n",
              "2     2006-06-27  TED2006          en   \n",
              "3     2006-06-27  TED2006          en   \n",
              "4     2006-06-27  TED2006          en   \n",
              "\n",
              "                                      available_lang  comments  duration  \\\n",
              "0  ['ar', 'bg', 'cs', 'de', 'el', 'en', 'es', 'fa...     272.0       977   \n",
              "1  ['ar', 'az', 'bg', 'bn', 'bs', 'cs', 'da', 'de...     628.0      1190   \n",
              "2  ['ar', 'bg', 'de', 'el', 'en', 'es', 'fa', 'fr...     124.0      1286   \n",
              "3  ['ar', 'bg', 'bn', 'ca', 'cs', 'de', 'en', 'es...     219.0      1116   \n",
              "4  ['af', 'ar', 'az', 'be', 'bg', 'bn', 'ca', 'cs...    4931.0      1164   \n",
              "\n",
              "                                              topics  \\\n",
              "0  ['alternative energy', 'cars', 'climate change...   \n",
              "1  ['Africa', 'Asia', 'Google', 'demo', 'economic...   \n",
              "2  ['computers', 'entertainment', 'interface desi...   \n",
              "3  ['MacArthur grant', 'activism', 'business', 'c...   \n",
              "4  ['children', 'creativity', 'culture', 'dance',...   \n",
              "\n",
              "                                       related_talks  \\\n",
              "0  {243: 'New thinking on the climate crisis', 54...   \n",
              "1  {2056: \"Own your body's data\", 2296: 'A visual...   \n",
              "2  {1725: '10 top time-saving tech tips', 2274: '...   \n",
              "3  {1041: '3 stories of local eco-entrepreneurshi...   \n",
              "4  {865: 'Bring on the learning revolution!', 173...   \n",
              "\n",
              "                                                 url  \\\n",
              "0  https://www.ted.com/talks/al_gore_averting_the...   \n",
              "1  https://www.ted.com/talks/hans_rosling_the_bes...   \n",
              "2  https://www.ted.com/talks/david_pogue_simplici...   \n",
              "3  https://www.ted.com/talks/majora_carter_greeni...   \n",
              "4  https://www.ted.com/talks/sir_ken_robinson_do_...   \n",
              "\n",
              "                                         description  \\\n",
              "0  With the same humor and humanity he exuded in ...   \n",
              "1  You've never seen data presented like this. Wi...   \n",
              "2  New York Times columnist David Pogue takes aim...   \n",
              "3  In an emotionally charged talk, MacArthur-winn...   \n",
              "4  Sir Ken Robinson makes an entertaining and pro...   \n",
              "\n",
              "                                          transcript  \n",
              "0  Thank you so much, Chris. And it's truly a gre...  \n",
              "1  About 10 years ago, I took on the task to teac...  \n",
              "2  (Music: \"The Sound of Silence,\" Simon & Garfun...  \n",
              "3  If you're here today — and I'm very happy that...  \n",
              "4  Good morning. How are you? (Audience) Good. It...  "
            ],
            "text/html": [
              "\n",
              "\n",
              "  <div id=\"df-dfedd507-1de1-4058-9103-3a27b9911d7a\">\n",
              "    <div class=\"colab-df-container\">\n",
              "      <div>\n",
              "<style scoped>\n",
              "    .dataframe tbody tr th:only-of-type {\n",
              "        vertical-align: middle;\n",
              "    }\n",
              "\n",
              "    .dataframe tbody tr th {\n",
              "        vertical-align: top;\n",
              "    }\n",
              "\n",
              "    .dataframe thead th {\n",
              "        text-align: right;\n",
              "    }\n",
              "</style>\n",
              "<table border=\"1\" class=\"dataframe\">\n",
              "  <thead>\n",
              "    <tr style=\"text-align: right;\">\n",
              "      <th></th>\n",
              "      <th>talk_id</th>\n",
              "      <th>title</th>\n",
              "      <th>speaker_1</th>\n",
              "      <th>all_speakers</th>\n",
              "      <th>occupations</th>\n",
              "      <th>about_speakers</th>\n",
              "      <th>views</th>\n",
              "      <th>recorded_date</th>\n",
              "      <th>published_date</th>\n",
              "      <th>event</th>\n",
              "      <th>native_lang</th>\n",
              "      <th>available_lang</th>\n",
              "      <th>comments</th>\n",
              "      <th>duration</th>\n",
              "      <th>topics</th>\n",
              "      <th>related_talks</th>\n",
              "      <th>url</th>\n",
              "      <th>description</th>\n",
              "      <th>transcript</th>\n",
              "    </tr>\n",
              "  </thead>\n",
              "  <tbody>\n",
              "    <tr>\n",
              "      <th>0</th>\n",
              "      <td>1</td>\n",
              "      <td>Averting the climate crisis</td>\n",
              "      <td>Al Gore</td>\n",
              "      <td>{0: 'Al Gore'}</td>\n",
              "      <td>{0: ['climate advocate']}</td>\n",
              "      <td>{0: 'Nobel Laureate Al Gore focused the world’...</td>\n",
              "      <td>3523392</td>\n",
              "      <td>2006-02-25</td>\n",
              "      <td>2006-06-27</td>\n",
              "      <td>TED2006</td>\n",
              "      <td>en</td>\n",
              "      <td>['ar', 'bg', 'cs', 'de', 'el', 'en', 'es', 'fa...</td>\n",
              "      <td>272.0</td>\n",
              "      <td>977</td>\n",
              "      <td>['alternative energy', 'cars', 'climate change...</td>\n",
              "      <td>{243: 'New thinking on the climate crisis', 54...</td>\n",
              "      <td>https://www.ted.com/talks/al_gore_averting_the...</td>\n",
              "      <td>With the same humor and humanity he exuded in ...</td>\n",
              "      <td>Thank you so much, Chris. And it's truly a gre...</td>\n",
              "    </tr>\n",
              "    <tr>\n",
              "      <th>1</th>\n",
              "      <td>92</td>\n",
              "      <td>The best stats you've ever seen</td>\n",
              "      <td>Hans Rosling</td>\n",
              "      <td>{0: 'Hans Rosling'}</td>\n",
              "      <td>{0: ['global health expert; data visionary']}</td>\n",
              "      <td>{0: 'In Hans Rosling’s hands, data sings. Glob...</td>\n",
              "      <td>14501685</td>\n",
              "      <td>2006-02-22</td>\n",
              "      <td>2006-06-27</td>\n",
              "      <td>TED2006</td>\n",
              "      <td>en</td>\n",
              "      <td>['ar', 'az', 'bg', 'bn', 'bs', 'cs', 'da', 'de...</td>\n",
              "      <td>628.0</td>\n",
              "      <td>1190</td>\n",
              "      <td>['Africa', 'Asia', 'Google', 'demo', 'economic...</td>\n",
              "      <td>{2056: \"Own your body's data\", 2296: 'A visual...</td>\n",
              "      <td>https://www.ted.com/talks/hans_rosling_the_bes...</td>\n",
              "      <td>You've never seen data presented like this. Wi...</td>\n",
              "      <td>About 10 years ago, I took on the task to teac...</td>\n",
              "    </tr>\n",
              "    <tr>\n",
              "      <th>2</th>\n",
              "      <td>7</td>\n",
              "      <td>Simplicity sells</td>\n",
              "      <td>David Pogue</td>\n",
              "      <td>{0: 'David Pogue'}</td>\n",
              "      <td>{0: ['technology columnist']}</td>\n",
              "      <td>{0: 'David Pogue is the personal technology co...</td>\n",
              "      <td>1920832</td>\n",
              "      <td>2006-02-24</td>\n",
              "      <td>2006-06-27</td>\n",
              "      <td>TED2006</td>\n",
              "      <td>en</td>\n",
              "      <td>['ar', 'bg', 'de', 'el', 'en', 'es', 'fa', 'fr...</td>\n",
              "      <td>124.0</td>\n",
              "      <td>1286</td>\n",
              "      <td>['computers', 'entertainment', 'interface desi...</td>\n",
              "      <td>{1725: '10 top time-saving tech tips', 2274: '...</td>\n",
              "      <td>https://www.ted.com/talks/david_pogue_simplici...</td>\n",
              "      <td>New York Times columnist David Pogue takes aim...</td>\n",
              "      <td>(Music: \"The Sound of Silence,\" Simon &amp; Garfun...</td>\n",
              "    </tr>\n",
              "    <tr>\n",
              "      <th>3</th>\n",
              "      <td>53</td>\n",
              "      <td>Greening the ghetto</td>\n",
              "      <td>Majora Carter</td>\n",
              "      <td>{0: 'Majora Carter'}</td>\n",
              "      <td>{0: ['activist for environmental justice']}</td>\n",
              "      <td>{0: 'Majora Carter redefined the field of envi...</td>\n",
              "      <td>2664069</td>\n",
              "      <td>2006-02-26</td>\n",
              "      <td>2006-06-27</td>\n",
              "      <td>TED2006</td>\n",
              "      <td>en</td>\n",
              "      <td>['ar', 'bg', 'bn', 'ca', 'cs', 'de', 'en', 'es...</td>\n",
              "      <td>219.0</td>\n",
              "      <td>1116</td>\n",
              "      <td>['MacArthur grant', 'activism', 'business', 'c...</td>\n",
              "      <td>{1041: '3 stories of local eco-entrepreneurshi...</td>\n",
              "      <td>https://www.ted.com/talks/majora_carter_greeni...</td>\n",
              "      <td>In an emotionally charged talk, MacArthur-winn...</td>\n",
              "      <td>If you're here today — and I'm very happy that...</td>\n",
              "    </tr>\n",
              "    <tr>\n",
              "      <th>4</th>\n",
              "      <td>66</td>\n",
              "      <td>Do schools kill creativity?</td>\n",
              "      <td>Sir Ken Robinson</td>\n",
              "      <td>{0: 'Sir Ken Robinson'}</td>\n",
              "      <td>{0: ['author', 'educator']}</td>\n",
              "      <td>{0: \"Creativity expert Sir Ken Robinson challe...</td>\n",
              "      <td>65051954</td>\n",
              "      <td>2006-02-25</td>\n",
              "      <td>2006-06-27</td>\n",
              "      <td>TED2006</td>\n",
              "      <td>en</td>\n",
              "      <td>['af', 'ar', 'az', 'be', 'bg', 'bn', 'ca', 'cs...</td>\n",
              "      <td>4931.0</td>\n",
              "      <td>1164</td>\n",
              "      <td>['children', 'creativity', 'culture', 'dance',...</td>\n",
              "      <td>{865: 'Bring on the learning revolution!', 173...</td>\n",
              "      <td>https://www.ted.com/talks/sir_ken_robinson_do_...</td>\n",
              "      <td>Sir Ken Robinson makes an entertaining and pro...</td>\n",
              "      <td>Good morning. How are you? (Audience) Good. It...</td>\n",
              "    </tr>\n",
              "  </tbody>\n",
              "</table>\n",
              "</div>\n",
              "      <button class=\"colab-df-convert\" onclick=\"convertToInteractive('df-dfedd507-1de1-4058-9103-3a27b9911d7a')\"\n",
              "              title=\"Convert this dataframe to an interactive table.\"\n",
              "              style=\"display:none;\">\n",
              "\n",
              "  <svg xmlns=\"http://www.w3.org/2000/svg\" height=\"24px\"viewBox=\"0 0 24 24\"\n",
              "       width=\"24px\">\n",
              "    <path d=\"M0 0h24v24H0V0z\" fill=\"none\"/>\n",
              "    <path d=\"M18.56 5.44l.94 2.06.94-2.06 2.06-.94-2.06-.94-.94-2.06-.94 2.06-2.06.94zm-11 1L8.5 8.5l.94-2.06 2.06-.94-2.06-.94L8.5 2.5l-.94 2.06-2.06.94zm10 10l.94 2.06.94-2.06 2.06-.94-2.06-.94-.94-2.06-.94 2.06-2.06.94z\"/><path d=\"M17.41 7.96l-1.37-1.37c-.4-.4-.92-.59-1.43-.59-.52 0-1.04.2-1.43.59L10.3 9.45l-7.72 7.72c-.78.78-.78 2.05 0 2.83L4 21.41c.39.39.9.59 1.41.59.51 0 1.02-.2 1.41-.59l7.78-7.78 2.81-2.81c.8-.78.8-2.07 0-2.86zM5.41 20L4 18.59l7.72-7.72 1.47 1.35L5.41 20z\"/>\n",
              "  </svg>\n",
              "      </button>\n",
              "\n",
              "\n",
              "\n",
              "    <div id=\"df-09cce227-73bd-4e96-9ffb-3fdec4efc12f\">\n",
              "      <button class=\"colab-df-quickchart\" onclick=\"quickchart('df-09cce227-73bd-4e96-9ffb-3fdec4efc12f')\"\n",
              "              title=\"Suggest charts.\"\n",
              "              style=\"display:none;\">\n",
              "\n",
              "<svg xmlns=\"http://www.w3.org/2000/svg\" height=\"24px\"viewBox=\"0 0 24 24\"\n",
              "     width=\"24px\">\n",
              "    <g>\n",
              "        <path d=\"M19 3H5c-1.1 0-2 .9-2 2v14c0 1.1.9 2 2 2h14c1.1 0 2-.9 2-2V5c0-1.1-.9-2-2-2zM9 17H7v-7h2v7zm4 0h-2V7h2v10zm4 0h-2v-4h2v4z\"/>\n",
              "    </g>\n",
              "</svg>\n",
              "      </button>\n",
              "    </div>\n",
              "\n",
              "<style>\n",
              "  .colab-df-quickchart {\n",
              "    background-color: #E8F0FE;\n",
              "    border: none;\n",
              "    border-radius: 50%;\n",
              "    cursor: pointer;\n",
              "    display: none;\n",
              "    fill: #1967D2;\n",
              "    height: 32px;\n",
              "    padding: 0 0 0 0;\n",
              "    width: 32px;\n",
              "  }\n",
              "\n",
              "  .colab-df-quickchart:hover {\n",
              "    background-color: #E2EBFA;\n",
              "    box-shadow: 0px 1px 2px rgba(60, 64, 67, 0.3), 0px 1px 3px 1px rgba(60, 64, 67, 0.15);\n",
              "    fill: #174EA6;\n",
              "  }\n",
              "\n",
              "  [theme=dark] .colab-df-quickchart {\n",
              "    background-color: #3B4455;\n",
              "    fill: #D2E3FC;\n",
              "  }\n",
              "\n",
              "  [theme=dark] .colab-df-quickchart:hover {\n",
              "    background-color: #434B5C;\n",
              "    box-shadow: 0px 1px 3px 1px rgba(0, 0, 0, 0.15);\n",
              "    filter: drop-shadow(0px 1px 2px rgba(0, 0, 0, 0.3));\n",
              "    fill: #FFFFFF;\n",
              "  }\n",
              "</style>\n",
              "\n",
              "    <script>\n",
              "      async function quickchart(key) {\n",
              "        const containerElement = document.querySelector('#' + key);\n",
              "        const charts = await google.colab.kernel.invokeFunction(\n",
              "            'suggestCharts', [key], {});\n",
              "      }\n",
              "    </script>\n",
              "\n",
              "      <script>\n",
              "\n",
              "function displayQuickchartButton(domScope) {\n",
              "  let quickchartButtonEl =\n",
              "    domScope.querySelector('#df-09cce227-73bd-4e96-9ffb-3fdec4efc12f button.colab-df-quickchart');\n",
              "  quickchartButtonEl.style.display =\n",
              "    google.colab.kernel.accessAllowed ? 'block' : 'none';\n",
              "}\n",
              "\n",
              "        displayQuickchartButton(document);\n",
              "      </script>\n",
              "      <style>\n",
              "    .colab-df-container {\n",
              "      display:flex;\n",
              "      flex-wrap:wrap;\n",
              "      gap: 12px;\n",
              "    }\n",
              "\n",
              "    .colab-df-convert {\n",
              "      background-color: #E8F0FE;\n",
              "      border: none;\n",
              "      border-radius: 50%;\n",
              "      cursor: pointer;\n",
              "      display: none;\n",
              "      fill: #1967D2;\n",
              "      height: 32px;\n",
              "      padding: 0 0 0 0;\n",
              "      width: 32px;\n",
              "    }\n",
              "\n",
              "    .colab-df-convert:hover {\n",
              "      background-color: #E2EBFA;\n",
              "      box-shadow: 0px 1px 2px rgba(60, 64, 67, 0.3), 0px 1px 3px 1px rgba(60, 64, 67, 0.15);\n",
              "      fill: #174EA6;\n",
              "    }\n",
              "\n",
              "    [theme=dark] .colab-df-convert {\n",
              "      background-color: #3B4455;\n",
              "      fill: #D2E3FC;\n",
              "    }\n",
              "\n",
              "    [theme=dark] .colab-df-convert:hover {\n",
              "      background-color: #434B5C;\n",
              "      box-shadow: 0px 1px 3px 1px rgba(0, 0, 0, 0.15);\n",
              "      filter: drop-shadow(0px 1px 2px rgba(0, 0, 0, 0.3));\n",
              "      fill: #FFFFFF;\n",
              "    }\n",
              "  </style>\n",
              "\n",
              "      <script>\n",
              "        const buttonEl =\n",
              "          document.querySelector('#df-dfedd507-1de1-4058-9103-3a27b9911d7a button.colab-df-convert');\n",
              "        buttonEl.style.display =\n",
              "          google.colab.kernel.accessAllowed ? 'block' : 'none';\n",
              "\n",
              "        async function convertToInteractive(key) {\n",
              "          const element = document.querySelector('#df-dfedd507-1de1-4058-9103-3a27b9911d7a');\n",
              "          const dataTable =\n",
              "            await google.colab.kernel.invokeFunction('convertToInteractive',\n",
              "                                                     [key], {});\n",
              "          if (!dataTable) return;\n",
              "\n",
              "          const docLinkHtml = 'Like what you see? Visit the ' +\n",
              "            '<a target=\"_blank\" href=https://colab.research.google.com/notebooks/data_table.ipynb>data table notebook</a>'\n",
              "            + ' to learn more about interactive tables.';\n",
              "          element.innerHTML = '';\n",
              "          dataTable['output_type'] = 'display_data';\n",
              "          await google.colab.output.renderOutput(dataTable, element);\n",
              "          const docLink = document.createElement('div');\n",
              "          docLink.innerHTML = docLinkHtml;\n",
              "          element.appendChild(docLink);\n",
              "        }\n",
              "      </script>\n",
              "    </div>\n",
              "  </div>\n"
            ]
          },
          "metadata": {},
          "execution_count": 5
        }
      ]
    },
    {
      "cell_type": "markdown",
      "source": [
        "### Dataset Rows & Columns count"
      ],
      "metadata": {
        "id": "7hBIi_osiCS2"
      }
    },
    {
      "cell_type": "code",
      "source": [
        "# Dataset Rows & Columns count\n",
        "rows = df.shape[0]\n",
        "col = df.shape[1]\n",
        "print('There are',rows,'rows and',col,'columns in this dataset')"
      ],
      "metadata": {
        "id": "Kllu7SJgmLij",
        "colab": {
          "base_uri": "https://localhost:8080/"
        },
        "outputId": "8c751249-a358-4e21-bff0-e0f7cafc1bd4"
      },
      "execution_count": 6,
      "outputs": [
        {
          "output_type": "stream",
          "name": "stdout",
          "text": [
            "There are 1504 rows and 19 columns in this dataset\n"
          ]
        }
      ]
    },
    {
      "cell_type": "markdown",
      "source": [
        "### Dataset Information"
      ],
      "metadata": {
        "id": "JlHwYmJAmNHm"
      }
    },
    {
      "cell_type": "code",
      "source": [
        "# Dataset Info\n",
        "df.info()"
      ],
      "metadata": {
        "id": "e9hRXRi6meOf",
        "colab": {
          "base_uri": "https://localhost:8080/"
        },
        "outputId": "a6cdaec8-8c64-4e78-bdcc-283a260425e3"
      },
      "execution_count": 7,
      "outputs": [
        {
          "output_type": "stream",
          "name": "stdout",
          "text": [
            "<class 'pandas.core.frame.DataFrame'>\n",
            "RangeIndex: 1504 entries, 0 to 1503\n",
            "Data columns (total 19 columns):\n",
            " #   Column          Non-Null Count  Dtype  \n",
            "---  ------          --------------  -----  \n",
            " 0   talk_id         1504 non-null   int64  \n",
            " 1   title           1504 non-null   object \n",
            " 2   speaker_1       1504 non-null   object \n",
            " 3   all_speakers    1504 non-null   object \n",
            " 4   occupations     1501 non-null   object \n",
            " 5   about_speakers  1501 non-null   object \n",
            " 6   views           1504 non-null   int64  \n",
            " 7   recorded_date   1504 non-null   object \n",
            " 8   published_date  1504 non-null   object \n",
            " 9   event           1504 non-null   object \n",
            " 10  native_lang     1504 non-null   object \n",
            " 11  available_lang  1504 non-null   object \n",
            " 12  comments        1503 non-null   float64\n",
            " 13  duration        1504 non-null   int64  \n",
            " 14  topics          1504 non-null   object \n",
            " 15  related_talks   1504 non-null   object \n",
            " 16  url             1504 non-null   object \n",
            " 17  description     1504 non-null   object \n",
            " 18  transcript      1504 non-null   object \n",
            "dtypes: float64(1), int64(3), object(15)\n",
            "memory usage: 223.4+ KB\n"
          ]
        }
      ]
    },
    {
      "cell_type": "markdown",
      "source": [
        "#### Duplicate Values"
      ],
      "metadata": {
        "id": "35m5QtbWiB9F"
      }
    },
    {
      "cell_type": "code",
      "source": [
        "# Dataset Duplicate Value Count\n",
        "duplicate_val=df.duplicated().sum()\n",
        "print('In this dataset we have',duplicate_val,'duplicate values')"
      ],
      "metadata": {
        "id": "1sLdpKYkmox0",
        "colab": {
          "base_uri": "https://localhost:8080/"
        },
        "outputId": "951a77a3-536a-46de-a695-8acf2489f46e"
      },
      "execution_count": 8,
      "outputs": [
        {
          "output_type": "stream",
          "name": "stdout",
          "text": [
            "In this dataset we have 0 duplicate values\n"
          ]
        }
      ]
    },
    {
      "cell_type": "markdown",
      "source": [
        "#### Missing Values/Null Values"
      ],
      "metadata": {
        "id": "PoPl-ycgm1ru"
      }
    },
    {
      "cell_type": "code",
      "source": [
        "# Missing Values/Null Values Count\n",
        "df.isnull().sum()"
      ],
      "metadata": {
        "id": "GgHWkxvamxVg",
        "colab": {
          "base_uri": "https://localhost:8080/"
        },
        "outputId": "008f4edf-c72d-4ce0-c18e-ed6cb79dcf5e"
      },
      "execution_count": 9,
      "outputs": [
        {
          "output_type": "execute_result",
          "data": {
            "text/plain": [
              "talk_id           0\n",
              "title             0\n",
              "speaker_1         0\n",
              "all_speakers      0\n",
              "occupations       3\n",
              "about_speakers    3\n",
              "views             0\n",
              "recorded_date     0\n",
              "published_date    0\n",
              "event             0\n",
              "native_lang       0\n",
              "available_lang    0\n",
              "comments          1\n",
              "duration          0\n",
              "topics            0\n",
              "related_talks     0\n",
              "url               0\n",
              "description       0\n",
              "transcript        0\n",
              "dtype: int64"
            ]
          },
          "metadata": {},
          "execution_count": 9
        }
      ]
    },
    {
      "cell_type": "code",
      "source": [
        "# Visualizing the missing values\n",
        "msno.bar(df)"
      ],
      "metadata": {
        "id": "3q5wnI3om9sJ",
        "colab": {
          "base_uri": "https://localhost:8080/",
          "height": 0
        },
        "outputId": "7c8fabaa-0bcc-475f-8216-0a86314d032f"
      },
      "execution_count": 10,
      "outputs": [
        {
          "output_type": "execute_result",
          "data": {
            "text/plain": [
              "<Axes: >"
            ]
          },
          "metadata": {},
          "execution_count": 10
        },
        {
          "output_type": "display_data",
          "data": {
            "text/plain": [
              "<Figure size 2500x1000 with 3 Axes>"
            ],
            "image/png": "[encoded data removed]"
          },
          "metadata": {}
        }
      ]
    },
    {
      "cell_type": "markdown",
      "source": [
        "### What did you know about your dataset?"
      ],
      "metadata": {
        "id": "H0kj-8xxnORC"
      }
    },
    {
      "cell_type": "markdown",
      "source": [
        "In this dataset we have **1504 rows** and **19 columns** and 0 duplicate values\n",
        "\n",
        "we have 3 null value in occupation ,about_speaker and 2 null values in comments and in all the rest columns we don't have null values.\n",
        "\n",
        "some information about main columns are given below:-\n",
        "\n",
        "**Title**: The title or headline of the TED Talk.\n",
        "\n",
        "**Description**: A brief summary or description of the talk's content.\n",
        "\n",
        "**Speaker**: The name and background of the speaker delivering the talk.\n",
        "\n",
        "**Event**: The TED event where the talk was presented.\n",
        "\n",
        "**Duration**: The length of the TED Talk in minutes.\n",
        "\n",
        "**Published Date**: The date when the TED Talk was published.\n",
        "\n",
        "**Languages**: The languages in which the talk is available.\n",
        "\n",
        "**Views**: The number of views the TED Talk has received.\n",
        "\n",
        "**Transcripts**: The full text of the talk's transcript.\n",
        "\n",
        "**Tags**: Keywords or tags associated with the talk's content."
      ],
      "metadata": {
        "id": "gfoNAAC-nUe_"
      }
    },
    {
      "cell_type": "markdown",
      "source": [
        "## ***2. Understanding Your Variables***"
      ],
      "metadata": {
        "id": "nA9Y7ga8ng1Z"
      }
    },
    {
      "cell_type": "code",
      "source": [
        "# Dataset Columns\n",
        "for item in df.columns:\n",
        "  print(item)"
      ],
      "metadata": {
        "id": "j7xfkqrt5Ag5",
        "colab": {
          "base_uri": "https://localhost:8080/"
        },
        "outputId": "e9a0f27e-2d8b-4c36-c9dd-800347417572"
      },
      "execution_count": 11,
      "outputs": [
        {
          "output_type": "stream",
          "name": "stdout",
          "text": [
            "talk_id\n",
            "title\n",
            "speaker_1\n",
            "all_speakers\n",
            "occupations\n",
            "about_speakers\n",
            "views\n",
            "recorded_date\n",
            "published_date\n",
            "event\n",
            "native_lang\n",
            "available_lang\n",
            "comments\n",
            "duration\n",
            "topics\n",
            "related_talks\n",
            "url\n",
            "description\n",
            "transcript\n"
          ]
        }
      ]
    },
    {
      "cell_type": "code",
      "source": [
        "# Dataset Describe\n",
        "df.describe()"
      ],
      "metadata": {
        "id": "DnOaZdaE5Q5t",
        "colab": {
          "base_uri": "https://localhost:8080/",
          "height": 0
        },
        "outputId": "96601f26-e895-47be-8d5b-854d547cbf9f"
      },
      "execution_count": 12,
      "outputs": [
        {
          "output_type": "execute_result",
          "data": {
            "text/plain": [
              "           talk_id         views     comments     duration\n",
              "count  1504.000000  1.504000e+03  1503.000000  1504.000000\n",
              "mean    932.639628  2.249444e+06   250.638723   845.335106\n",
              "std     529.032964  4.194330e+06   350.673754   356.351411\n",
              "min       1.000000  1.065450e+05     9.000000   135.000000\n",
              "25%     467.750000  7.569198e+05    91.000000   566.000000\n",
              "50%     980.500000  1.198993e+06   157.000000   922.500000\n",
              "75%    1390.250000  2.067974e+06   286.000000  1094.000000\n",
              "max    1797.000000  6.505195e+07  6449.000000  2678.000000"
            ],
            "text/html": [
              "\n",
              "\n",
              "  <div id=\"df-e4bad160-8085-40d2-b5e4-2d1f30e7dddf\">\n",
              "    <div class=\"colab-df-container\">\n",
              "      <div>\n",
              "<style scoped>\n",
              "    .dataframe tbody tr th:only-of-type {\n",
              "        vertical-align: middle;\n",
              "    }\n",
              "\n",
              "    .dataframe tbody tr th {\n",
              "        vertical-align: top;\n",
              "    }\n",
              "\n",
              "    .dataframe thead th {\n",
              "        text-align: right;\n",
              "    }\n",
              "</style>\n",
              "<table border=\"1\" class=\"dataframe\">\n",
              "  <thead>\n",
              "    <tr style=\"text-align: right;\">\n",
              "      <th></th>\n",
              "      <th>talk_id</th>\n",
              "      <th>views</th>\n",
              "      <th>comments</th>\n",
              "      <th>duration</th>\n",
              "    </tr>\n",
              "  </thead>\n",
              "  <tbody>\n",
              "    <tr>\n",
              "      <th>count</th>\n",
              "      <td>1504.000000</td>\n",
              "      <td>1.504000e+03</td>\n",
              "      <td>1503.000000</td>\n",
              "      <td>1504.000000</td>\n",
              "    </tr>\n",
              "    <tr>\n",
              "      <th>mean</th>\n",
              "      <td>932.639628</td>\n",
              "      <td>2.249444e+06</td>\n",
              "      <td>250.638723</td>\n",
              "      <td>845.335106</td>\n",
              "    </tr>\n",
              "    <tr>\n",
              "      <th>std</th>\n",
              "      <td>529.032964</td>\n",
              "      <td>4.194330e+06</td>\n",
              "      <td>350.673754</td>\n",
              "      <td>356.351411</td>\n",
              "    </tr>\n",
              "    <tr>\n",
              "      <th>min</th>\n",
              "      <td>1.000000</td>\n",
              "      <td>1.065450e+05</td>\n",
              "      <td>9.000000</td>\n",
              "      <td>135.000000</td>\n",
              "    </tr>\n",
              "    <tr>\n",
              "      <th>25%</th>\n",
              "      <td>467.750000</td>\n",
              "      <td>7.569198e+05</td>\n",
              "      <td>91.000000</td>\n",
              "      <td>566.000000</td>\n",
              "    </tr>\n",
              "    <tr>\n",
              "      <th>50%</th>\n",
              "      <td>980.500000</td>\n",
              "      <td>1.198993e+06</td>\n",
              "      <td>157.000000</td>\n",
              "      <td>922.500000</td>\n",
              "    </tr>\n",
              "    <tr>\n",
              "      <th>75%</th>\n",
              "      <td>1390.250000</td>\n",
              "      <td>2.067974e+06</td>\n",
              "      <td>286.000000</td>\n",
              "      <td>1094.000000</td>\n",
              "    </tr>\n",
              "    <tr>\n",
              "      <th>max</th>\n",
              "      <td>1797.000000</td>\n",
              "      <td>6.505195e+07</td>\n",
              "      <td>6449.000000</td>\n",
              "      <td>2678.000000</td>\n",
              "    </tr>\n",
              "  </tbody>\n",
              "</table>\n",
              "</div>\n",
              "      <button class=\"colab-df-convert\" onclick=\"convertToInteractive('df-e4bad160-8085-40d2-b5e4-2d1f30e7dddf')\"\n",
              "              title=\"Convert this dataframe to an interactive table.\"\n",
              "              style=\"display:none;\">\n",
              "\n",
              "  <svg xmlns=\"http://www.w3.org/2000/svg\" height=\"24px\"viewBox=\"0 0 24 24\"\n",
              "       width=\"24px\">\n",
              "    <path d=\"M0 0h24v24H0V0z\" fill=\"none\"/>\n",
              "    <path d=\"M18.56 5.44l.94 2.06.94-2.06 2.06-.94-2.06-.94-.94-2.06-.94 2.06-2.06.94zm-11 1L8.5 8.5l.94-2.06 2.06-.94-2.06-.94L8.5 2.5l-.94 2.06-2.06.94zm10 10l.94 2.06.94-2.06 2.06-.94-2.06-.94-.94-2.06-.94 2.06-2.06.94z\"/><path d=\"M17.41 7.96l-1.37-1.37c-.4-.4-.92-.59-1.43-.59-.52 0-1.04.2-1.43.59L10.3 9.45l-7.72 7.72c-.78.78-.78 2.05 0 2.83L4 21.41c.39.39.9.59 1.41.59.51 0 1.02-.2 1.41-.59l7.78-7.78 2.81-2.81c.8-.78.8-2.07 0-2.86zM5.41 20L4 18.59l7.72-7.72 1.47 1.35L5.41 20z\"/>\n",
              "  </svg>\n",
              "      </button>\n",
              "\n",
              "\n",
              "\n",
              "    <div id=\"df-5e435394-af82-439c-89ea-cd19dafbb117\">\n",
              "      <button class=\"colab-df-quickchart\" onclick=\"quickchart('df-5e435394-af82-439c-89ea-cd19dafbb117')\"\n",
              "              title=\"Suggest charts.\"\n",
              "              style=\"display:none;\">\n",
              "\n",
              "<svg xmlns=\"http://www.w3.org/2000/svg\" height=\"24px\"viewBox=\"0 0 24 24\"\n",
              "     width=\"24px\">\n",
              "    <g>\n",
              "        <path d=\"M19 3H5c-1.1 0-2 .9-2 2v14c0 1.1.9 2 2 2h14c1.1 0 2-.9 2-2V5c0-1.1-.9-2-2-2zM9 17H7v-7h2v7zm4 0h-2V7h2v10zm4 0h-2v-4h2v4z\"/>\n",
              "    </g>\n",
              "</svg>\n",
              "      </button>\n",
              "    </div>\n",
              "\n",
              "<style>\n",
              "  .colab-df-quickchart {\n",
              "    background-color: #E8F0FE;\n",
              "    border: none;\n",
              "    border-radius: 50%;\n",
              "    cursor: pointer;\n",
              "    display: none;\n",
              "    fill: #1967D2;\n",
              "    height: 32px;\n",
              "    padding: 0 0 0 0;\n",
              "    width: 32px;\n",
              "  }\n",
              "\n",
              "  .colab-df-quickchart:hover {\n",
              "    background-color: #E2EBFA;\n",
              "    box-shadow: 0px 1px 2px rgba(60, 64, 67, 0.3), 0px 1px 3px 1px rgba(60, 64, 67, 0.15);\n",
              "    fill: #174EA6;\n",
              "  }\n",
              "\n",
              "  [theme=dark] .colab-df-quickchart {\n",
              "    background-color: #3B4455;\n",
              "    fill: #D2E3FC;\n",
              "  }\n",
              "\n",
              "  [theme=dark] .colab-df-quickchart:hover {\n",
              "    background-color: #434B5C;\n",
              "    box-shadow: 0px 1px 3px 1px rgba(0, 0, 0, 0.15);\n",
              "    filter: drop-shadow(0px 1px 2px rgba(0, 0, 0, 0.3));\n",
              "    fill: #FFFFFF;\n",
              "  }\n",
              "</style>\n",
              "\n",
              "    <script>\n",
              "      async function quickchart(key) {\n",
              "        const containerElement = document.querySelector('#' + key);\n",
              "        const charts = await google.colab.kernel.invokeFunction(\n",
              "            'suggestCharts', [key], {});\n",
              "      }\n",
              "    </script>\n",
              "\n",
              "      <script>\n",
              "\n",
              "function displayQuickchartButton(domScope) {\n",
              "  let quickchartButtonEl =\n",
              "    domScope.querySelector('#df-5e435394-af82-439c-89ea-cd19dafbb117 button.colab-df-quickchart');\n",
              "  quickchartButtonEl.style.display =\n",
              "    google.colab.kernel.accessAllowed ? 'block' : 'none';\n",
              "}\n",
              "\n",
              "        displayQuickchartButton(document);\n",
              "      </script>\n",
              "      <style>\n",
              "    .colab-df-container {\n",
              "      display:flex;\n",
              "      flex-wrap:wrap;\n",
              "      gap: 12px;\n",
              "    }\n",
              "\n",
              "    .colab-df-convert {\n",
              "      background-color: #E8F0FE;\n",
              "      border: none;\n",
              "      border-radius: 50%;\n",
              "      cursor: pointer;\n",
              "      display: none;\n",
              "      fill: #1967D2;\n",
              "      height: 32px;\n",
              "      padding: 0 0 0 0;\n",
              "      width: 32px;\n",
              "    }\n",
              "\n",
              "    .colab-df-convert:hover {\n",
              "      background-color: #E2EBFA;\n",
              "      box-shadow: 0px 1px 2px rgba(60, 64, 67, 0.3), 0px 1px 3px 1px rgba(60, 64, 67, 0.15);\n",
              "      fill: #174EA6;\n",
              "    }\n",
              "\n",
              "    [theme=dark] .colab-df-convert {\n",
              "      background-color: #3B4455;\n",
              "      fill: #D2E3FC;\n",
              "    }\n",
              "\n",
              "    [theme=dark] .colab-df-convert:hover {\n",
              "      background-color: #434B5C;\n",
              "      box-shadow: 0px 1px 3px 1px rgba(0, 0, 0, 0.15);\n",
              "      filter: drop-shadow(0px 1px 2px rgba(0, 0, 0, 0.3));\n",
              "      fill: #FFFFFF;\n",
              "    }\n",
              "  </style>\n",
              "\n",
              "      <script>\n",
              "        const buttonEl =\n",
              "          document.querySelector('#df-e4bad160-8085-40d2-b5e4-2d1f30e7dddf button.colab-df-convert');\n",
              "        buttonEl.style.display =\n",
              "          google.colab.kernel.accessAllowed ? 'block' : 'none';\n",
              "\n",
              "        async function convertToInteractive(key) {\n",
              "          const element = document.querySelector('#df-e4bad160-8085-40d2-b5e4-2d1f30e7dddf');\n",
              "          const dataTable =\n",
              "            await google.colab.kernel.invokeFunction('convertToInteractive',\n",
              "                                                     [key], {});\n",
              "          if (!dataTable) return;\n",
              "\n",
              "          const docLinkHtml = 'Like what you see? Visit the ' +\n",
              "            '<a target=\"_blank\" href=https://colab.research.google.com/notebooks/data_table.ipynb>data table notebook</a>'\n",
              "            + ' to learn more about interactive tables.';\n",
              "          element.innerHTML = '';\n",
              "          dataTable['output_type'] = 'display_data';\n",
              "          await google.colab.output.renderOutput(dataTable, element);\n",
              "          const docLink = document.createElement('div');\n",
              "          docLink.innerHTML = docLinkHtml;\n",
              "          element.appendChild(docLink);\n",
              "        }\n",
              "      </script>\n",
              "    </div>\n",
              "  </div>\n"
            ]
          },
          "metadata": {},
          "execution_count": 12
        }
      ]
    },
    {
      "cell_type": "markdown",
      "source": [
        "### Variables Description"
      ],
      "metadata": {
        "id": "PBTbrJXOngz2"
      }
    },
    {
      "cell_type": "markdown",
      "source": [
        "**Title**: The title or headline of the TED Talk.\n",
        "\n",
        "**Description**: A brief summary or description of the talk's content.\n",
        "\n",
        "**Speaker**: The name and background of the speaker delivering the talk.\n",
        "\n",
        "**Occupation**: The occupation of the speaker.\n",
        "\n",
        "**Event**: The TED event where the talk was presented.\n",
        "\n",
        "**Duration**: The length of the TED Talk in minutes.\n",
        "\n",
        "**Published Date**: The date when the TED Talk was published.\n",
        "\n",
        "**Languages**: The languages in which the talk is available.\n",
        "\n",
        "**URL**: The link or URL to the TED Talk video.\n",
        "\n",
        "**Views**: The number of views the TED Talk has received.\n",
        "\n",
        "**Transcripts**: The full text of the talk's transcript.\n",
        "\n",
        "**Tags**: Keywords or tags associated with the talk's content."
      ],
      "metadata": {
        "id": "aJV4KIxSnxay"
      }
    },
    {
      "cell_type": "markdown",
      "source": [
        "### Check Unique Values for each variable."
      ],
      "metadata": {
        "id": "u3PMJOP6ngxN"
      }
    },
    {
      "cell_type": "code",
      "source": [
        "# Check Unique Values for each variable.\n",
        "df.nunique()"
      ],
      "metadata": {
        "id": "zms12Yq5n-jE",
        "colab": {
          "base_uri": "https://localhost:8080/"
        },
        "outputId": "d588ca3c-6661-4dfc-dca7-865294bc789f"
      },
      "execution_count": 13,
      "outputs": [
        {
          "output_type": "execute_result",
          "data": {
            "text/plain": [
              "talk_id           1504\n",
              "title             1504\n",
              "speaker_1         1258\n",
              "all_speakers      1268\n",
              "occupations        871\n",
              "about_speakers    1267\n",
              "views             1503\n",
              "recorded_date      412\n",
              "published_date    1373\n",
              "event              201\n",
              "native_lang          6\n",
              "available_lang    1461\n",
              "comments           530\n",
              "duration           861\n",
              "topics            1499\n",
              "related_talks     1504\n",
              "url               1504\n",
              "description       1504\n",
              "transcript        1504\n",
              "dtype: int64"
            ]
          },
          "metadata": {},
          "execution_count": 13
        }
      ]
    },
    {
      "cell_type": "markdown",
      "source": [
        "## 3. ***Data Wrangling***"
      ],
      "metadata": {
        "id": "dauF4eBmngu3"
      }
    },
    {
      "cell_type": "markdown",
      "source": [
        "### Data Wrangling Code"
      ],
      "metadata": {
        "id": "bKJF3rekwFvQ"
      }
    },
    {
      "cell_type": "code",
      "source": [
        "# Write your code to make your dataset analysis ready.\n",
        "\n",
        "# filling the missing values\n",
        "values = {'comments':0, 'occupations':'no data', 'about_speakers': 'no data', 'all_speakers' : 'no data'}\n",
        "df = df.fillna(value=values)"
      ],
      "metadata": {
        "id": "wk-9a2fpoLcV"
      },
      "execution_count": 14,
      "outputs": []
    },
    {
      "cell_type": "code",
      "source": [
        "# rechecking for null values, after filling the null values\n",
        "df.isnull().sum()"
      ],
      "metadata": {
        "colab": {
          "base_uri": "https://localhost:8080/"
        },
        "id": "khSkpULx6ymH",
        "outputId": "55e5e3b3-4518-4ecf-cfcf-635da327c5ac"
      },
      "execution_count": 15,
      "outputs": [
        {
          "output_type": "execute_result",
          "data": {
            "text/plain": [
              "talk_id           0\n",
              "title             0\n",
              "speaker_1         0\n",
              "all_speakers      0\n",
              "occupations       0\n",
              "about_speakers    0\n",
              "views             0\n",
              "recorded_date     0\n",
              "published_date    0\n",
              "event             0\n",
              "native_lang       0\n",
              "available_lang    0\n",
              "comments          0\n",
              "duration          0\n",
              "topics            0\n",
              "related_talks     0\n",
              "url               0\n",
              "description       0\n",
              "transcript        0\n",
              "dtype: int64"
            ]
          },
          "metadata": {},
          "execution_count": 15
        }
      ]
    },
    {
      "cell_type": "code",
      "source": [
        "# change data-types of columns\n",
        "df = df.astype({'comments':'int32', 'views':'int32', 'duration':'int32'})\n",
        "df['recorded_date']= pd.to_datetime(df['recorded_date'])\n",
        "df['published_date']= pd.to_datetime(df['published_date'])\n",
        "\n",
        "# rechecking the dataset details, after the changes\n",
        "df.info()"
      ],
      "metadata": {
        "colab": {
          "base_uri": "https://localhost:8080/"
        },
        "id": "KRFDvB4l748s",
        "outputId": "e504a060-460c-498b-ddf1-98449e8cee1c"
      },
      "execution_count": 16,
      "outputs": [
        {
          "output_type": "stream",
          "name": "stdout",
          "text": [
            "<class 'pandas.core.frame.DataFrame'>\n",
            "RangeIndex: 1504 entries, 0 to 1503\n",
            "Data columns (total 19 columns):\n",
            " #   Column          Non-Null Count  Dtype         \n",
            "---  ------          --------------  -----         \n",
            " 0   talk_id         1504 non-null   int64         \n",
            " 1   title           1504 non-null   object        \n",
            " 2   speaker_1       1504 non-null   object        \n",
            " 3   all_speakers    1504 non-null   object        \n",
            " 4   occupations     1504 non-null   object        \n",
            " 5   about_speakers  1504 non-null   object        \n",
            " 6   views           1504 non-null   int32         \n",
            " 7   recorded_date   1504 non-null   datetime64[ns]\n",
            " 8   published_date  1504 non-null   datetime64[ns]\n",
            " 9   event           1504 non-null   object        \n",
            " 10  native_lang     1504 non-null   object        \n",
            " 11  available_lang  1504 non-null   object        \n",
            " 12  comments        1504 non-null   int32         \n",
            " 13  duration        1504 non-null   int32         \n",
            " 14  topics          1504 non-null   object        \n",
            " 15  related_talks   1504 non-null   object        \n",
            " 16  url             1504 non-null   object        \n",
            " 17  description     1504 non-null   object        \n",
            " 18  transcript      1504 non-null   object        \n",
            "dtypes: datetime64[ns](2), int32(3), int64(1), object(13)\n",
            "memory usage: 205.8+ KB\n"
          ]
        }
      ]
    },
    {
      "cell_type": "code",
      "source": [
        "# dropping all_speakers column because this column duplicate of speaker_1 and also drop url column and talk_id column\n",
        "df.drop(['all_speakers', 'url', 'talk_id'], axis=1, inplace=True)\n",
        "\n",
        "# renaming the column speaker_1 to speaker\n",
        "df.rename(columns={'speaker_1': 'speaker'}, inplace=True)"
      ],
      "metadata": {
        "id": "i7KbAtZ39aoC"
      },
      "execution_count": 17,
      "outputs": []
    },
    {
      "cell_type": "code",
      "source": [
        "# creating columns of day_of_month,month,day_name,day_of_week(weekend or not)\n",
        "df['day']=df['published_date'].dt.day\n",
        "df['month']=df['published_date'].dt.month\n",
        "df['day_name']=df['published_date'].dt.day_name()\n",
        "df['year']=df['published_date'].dt.year\n",
        "\n",
        "#for weekend value is 1 else 0;\n",
        "df['is_weekend']=df['published_date'].dt.day_of_week\n",
        "df['is_weekend']=df['is_weekend'].apply(lambda x: 1 if x>=5 else 0)\n",
        "\n",
        "# As there is date related columns . A better judge of views of a video will be daily views of a video(views/days since published)\n",
        "df['recorded_date']=pd.to_datetime(df['recorded_date'])\n",
        "df['published_date']=pd.to_datetime(df['published_date'])\n",
        "\n",
        "\n",
        "last_possible_date=df['published_date'].max()\n",
        "\n",
        "# creating New column to store days since video is publlished\n",
        "df['time_since_published']=last_possible_date-df['published_date']\n",
        "\n",
        "# created New columns to check daily views for a video as it is better metric\n",
        "df['daily_views']=df['views']/df['time_since_published'].apply(lambda x: x.days+1)"
      ],
      "metadata": {
        "id": "HzcHL8LJI3xD"
      },
      "execution_count": 18,
      "outputs": []
    },
    {
      "cell_type": "code",
      "source": [
        "# checking for random data from the dataset/dataframe\n",
        "df.sample(3)"
      ],
      "metadata": {
        "colab": {
          "base_uri": "https://localhost:8080/",
          "height": 0
        },
        "id": "xbS3v4KE9ulz",
        "outputId": "fda63c78-ebc5-4ad3-9bdd-4c335ad844e3"
      },
      "execution_count": 19,
      "outputs": [
        {
          "output_type": "execute_result",
          "data": {
            "text/plain": [
              "                                       title           speaker  \\\n",
              "539       Photographing the landscape of oil  Edward Burtynsky   \n",
              "677   The intriguing sound of marine mammals       Peter Tyack   \n",
              "1386                Be an artist, right now!      Young-ha Kim   \n",
              "\n",
              "                        occupations  \\\n",
              "539           {0: ['photographer']}   \n",
              "677   {0: ['behavioral ecologist']}   \n",
              "1386                {0: ['writer']}   \n",
              "\n",
              "                                         about_speakers    views  \\\n",
              "539   {0: \"2005 TED Prize winner Edward Burtynsky ha...   553381   \n",
              "677   {0: 'Peter Tyack studies the social behavior a...   525377   \n",
              "1386  {0: 'One of the premiere writers of his genera...  2057706   \n",
              "\n",
              "     recorded_date published_date                event native_lang  \\\n",
              "539     2009-07-21     2009-11-11       TEDGlobal 2009          en   \n",
              "677     2010-04-15     2010-06-16  Mission Blue Voyage          en   \n",
              "1386    2010-07-24     2013-02-15            TEDxSeoul          ko   \n",
              "\n",
              "                                         available_lang  ...  \\\n",
              "539   ['ar', 'bg', 'ca', 'cs', 'de', 'el', 'en', 'es...  ...   \n",
              "677   ['ar', 'bg', 'de', 'en', 'es', 'fr', 'he', 'hu...  ...   \n",
              "1386  ['ar', 'az', 'de', 'en', 'es', 'fa', 'fr', 'he...  ...   \n",
              "\n",
              "                                          related_talks  \\\n",
              "539   {56: 'My wish: Manufactured landscapes and gre...   \n",
              "677   {833: 'Glowing life in an underwater world', 4...   \n",
              "1386  {815: 'What adults can learn from kids', 1410:...   \n",
              "\n",
              "                                            description  \\\n",
              "539   In stunning large-format photographs, Edward B...   \n",
              "677   Peter Tyack of Woods Hole talks about a hidden...   \n",
              "1386  Why do we ever stop playing and creating? With...   \n",
              "\n",
              "                                             transcript day month   day_name  \\\n",
              "539   I started my journey 30 years ago. And I worke...  11    11  Wednesday   \n",
              "677   Thank you so much. I'm going to try to take yo...  16     6  Wednesday   \n",
              "1386  The theme of my talk today is, \"Be an artist, ...  15     2     Friday   \n",
              "\n",
              "      year  is_weekend time_since_published   daily_views  \n",
              "539   2009           0            1353 days    408.700886  \n",
              "677   2010           0            1136 days    462.072999  \n",
              "1386  2013           0             161 days  12701.888889  \n",
              "\n",
              "[3 rows x 23 columns]"
            ],
            "text/html": [
              "\n",
              "\n",
              "  <div id=\"df-b0e6a6f2-9286-4796-8d71-9ad0235b328e\">\n",
              "    <div class=\"colab-df-container\">\n",
              "      <div>\n",
              "<style scoped>\n",
              "    .dataframe tbody tr th:only-of-type {\n",
              "        vertical-align: middle;\n",
              "    }\n",
              "\n",
              "    .dataframe tbody tr th {\n",
              "        vertical-align: top;\n",
              "    }\n",
              "\n",
              "    .dataframe thead th {\n",
              "        text-align: right;\n",
              "    }\n",
              "</style>\n",
              "<table border=\"1\" class=\"dataframe\">\n",
              "  <thead>\n",
              "    <tr style=\"text-align: right;\">\n",
              "      <th></th>\n",
              "      <th>title</th>\n",
              "      <th>speaker</th>\n",
              "      <th>occupations</th>\n",
              "      <th>about_speakers</th>\n",
              "      <th>views</th>\n",
              "      <th>recorded_date</th>\n",
              "      <th>published_date</th>\n",
              "      <th>event</th>\n",
              "      <th>native_lang</th>\n",
              "      <th>available_lang</th>\n",
              "      <th>...</th>\n",
              "      <th>related_talks</th>\n",
              "      <th>description</th>\n",
              "      <th>transcript</th>\n",
              "      <th>day</th>\n",
              "      <th>month</th>\n",
              "      <th>day_name</th>\n",
              "      <th>year</th>\n",
              "      <th>is_weekend</th>\n",
              "      <th>time_since_published</th>\n",
              "      <th>daily_views</th>\n",
              "    </tr>\n",
              "  </thead>\n",
              "  <tbody>\n",
              "    <tr>\n",
              "      <th>539</th>\n",
              "      <td>Photographing the landscape of oil</td>\n",
              "      <td>Edward Burtynsky</td>\n",
              "      <td>{0: ['photographer']}</td>\n",
              "      <td>{0: \"2005 TED Prize winner Edward Burtynsky ha...</td>\n",
              "      <td>553381</td>\n",
              "      <td>2009-07-21</td>\n",
              "      <td>2009-11-11</td>\n",
              "      <td>TEDGlobal 2009</td>\n",
              "      <td>en</td>\n",
              "      <td>['ar', 'bg', 'ca', 'cs', 'de', 'el', 'en', 'es...</td>\n",
              "      <td>...</td>\n",
              "      <td>{56: 'My wish: Manufactured landscapes and gre...</td>\n",
              "      <td>In stunning large-format photographs, Edward B...</td>\n",
              "      <td>I started my journey 30 years ago. And I worke...</td>\n",
              "      <td>11</td>\n",
              "      <td>11</td>\n",
              "      <td>Wednesday</td>\n",
              "      <td>2009</td>\n",
              "      <td>0</td>\n",
              "      <td>1353 days</td>\n",
              "      <td>408.700886</td>\n",
              "    </tr>\n",
              "    <tr>\n",
              "      <th>677</th>\n",
              "      <td>The intriguing sound of marine mammals</td>\n",
              "      <td>Peter Tyack</td>\n",
              "      <td>{0: ['behavioral ecologist']}</td>\n",
              "      <td>{0: 'Peter Tyack studies the social behavior a...</td>\n",
              "      <td>525377</td>\n",
              "      <td>2010-04-15</td>\n",
              "      <td>2010-06-16</td>\n",
              "      <td>Mission Blue Voyage</td>\n",
              "      <td>en</td>\n",
              "      <td>['ar', 'bg', 'de', 'en', 'es', 'fr', 'he', 'hu...</td>\n",
              "      <td>...</td>\n",
              "      <td>{833: 'Glowing life in an underwater world', 4...</td>\n",
              "      <td>Peter Tyack of Woods Hole talks about a hidden...</td>\n",
              "      <td>Thank you so much. I'm going to try to take yo...</td>\n",
              "      <td>16</td>\n",
              "      <td>6</td>\n",
              "      <td>Wednesday</td>\n",
              "      <td>2010</td>\n",
              "      <td>0</td>\n",
              "      <td>1136 days</td>\n",
              "      <td>462.072999</td>\n",
              "    </tr>\n",
              "    <tr>\n",
              "      <th>1386</th>\n",
              "      <td>Be an artist, right now!</td>\n",
              "      <td>Young-ha Kim</td>\n",
              "      <td>{0: ['writer']}</td>\n",
              "      <td>{0: 'One of the premiere writers of his genera...</td>\n",
              "      <td>2057706</td>\n",
              "      <td>2010-07-24</td>\n",
              "      <td>2013-02-15</td>\n",
              "      <td>TEDxSeoul</td>\n",
              "      <td>ko</td>\n",
              "      <td>['ar', 'az', 'de', 'en', 'es', 'fa', 'fr', 'he...</td>\n",
              "      <td>...</td>\n",
              "      <td>{815: 'What adults can learn from kids', 1410:...</td>\n",
              "      <td>Why do we ever stop playing and creating? With...</td>\n",
              "      <td>The theme of my talk today is, \"Be an artist, ...</td>\n",
              "      <td>15</td>\n",
              "      <td>2</td>\n",
              "      <td>Friday</td>\n",
              "      <td>2013</td>\n",
              "      <td>0</td>\n",
              "      <td>161 days</td>\n",
              "      <td>12701.888889</td>\n",
              "    </tr>\n",
              "  </tbody>\n",
              "</table>\n",
              "<p>3 rows × 23 columns</p>\n",
              "</div>\n",
              "      <button class=\"colab-df-convert\" onclick=\"convertToInteractive('df-b0e6a6f2-9286-4796-8d71-9ad0235b328e')\"\n",
              "              title=\"Convert this dataframe to an interactive table.\"\n",
              "              style=\"display:none;\">\n",
              "\n",
              "  <svg xmlns=\"http://www.w3.org/2000/svg\" height=\"24px\"viewBox=\"0 0 24 24\"\n",
              "       width=\"24px\">\n",
              "    <path d=\"M0 0h24v24H0V0z\" fill=\"none\"/>\n",
              "    <path d=\"M18.56 5.44l.94 2.06.94-2.06 2.06-.94-2.06-.94-.94-2.06-.94 2.06-2.06.94zm-11 1L8.5 8.5l.94-2.06 2.06-.94-2.06-.94L8.5 2.5l-.94 2.06-2.06.94zm10 10l.94 2.06.94-2.06 2.06-.94-2.06-.94-.94-2.06-.94 2.06-2.06.94z\"/><path d=\"M17.41 7.96l-1.37-1.37c-.4-.4-.92-.59-1.43-.59-.52 0-1.04.2-1.43.59L10.3 9.45l-7.72 7.72c-.78.78-.78 2.05 0 2.83L4 21.41c.39.39.9.59 1.41.59.51 0 1.02-.2 1.41-.59l7.78-7.78 2.81-2.81c.8-.78.8-2.07 0-2.86zM5.41 20L4 18.59l7.72-7.72 1.47 1.35L5.41 20z\"/>\n",
              "  </svg>\n",
              "      </button>\n",
              "\n",
              "\n",
              "\n",
              "    <div id=\"df-3455744e-57d3-4b08-8c16-4ebf0fd735c2\">\n",
              "      <button class=\"colab-df-quickchart\" onclick=\"quickchart('df-3455744e-57d3-4b08-8c16-4ebf0fd735c2')\"\n",
              "              title=\"Suggest charts.\"\n",
              "              style=\"display:none;\">\n",
              "\n",
              "<svg xmlns=\"http://www.w3.org/2000/svg\" height=\"24px\"viewBox=\"0 0 24 24\"\n",
              "     width=\"24px\">\n",
              "    <g>\n",
              "        <path d=\"M19 3H5c-1.1 0-2 .9-2 2v14c0 1.1.9 2 2 2h14c1.1 0 2-.9 2-2V5c0-1.1-.9-2-2-2zM9 17H7v-7h2v7zm4 0h-2V7h2v10zm4 0h-2v-4h2v4z\"/>\n",
              "    </g>\n",
              "</svg>\n",
              "      </button>\n",
              "    </div>\n",
              "\n",
              "<style>\n",
              "  .colab-df-quickchart {\n",
              "    background-color: #E8F0FE;\n",
              "    border: none;\n",
              "    border-radius: 50%;\n",
              "    cursor: pointer;\n",
              "    display: none;\n",
              "    fill: #1967D2;\n",
              "    height: 32px;\n",
              "    padding: 0 0 0 0;\n",
              "    width: 32px;\n",
              "  }\n",
              "\n",
              "  .colab-df-quickchart:hover {\n",
              "    background-color: #E2EBFA;\n",
              "    box-shadow: 0px 1px 2px rgba(60, 64, 67, 0.3), 0px 1px 3px 1px rgba(60, 64, 67, 0.15);\n",
              "    fill: #174EA6;\n",
              "  }\n",
              "\n",
              "  [theme=dark] .colab-df-quickchart {\n",
              "    background-color: #3B4455;\n",
              "    fill: #D2E3FC;\n",
              "  }\n",
              "\n",
              "  [theme=dark] .colab-df-quickchart:hover {\n",
              "    background-color: #434B5C;\n",
              "    box-shadow: 0px 1px 3px 1px rgba(0, 0, 0, 0.15);\n",
              "    filter: drop-shadow(0px 1px 2px rgba(0, 0, 0, 0.3));\n",
              "    fill: #FFFFFF;\n",
              "  }\n",
              "</style>\n",
              "\n",
              "    <script>\n",
              "      async function quickchart(key) {\n",
              "        const containerElement = document.querySelector('#' + key);\n",
              "        const charts = await google.colab.kernel.invokeFunction(\n",
              "            'suggestCharts', [key], {});\n",
              "      }\n",
              "    </script>\n",
              "\n",
              "      <script>\n",
              "\n",
              "function displayQuickchartButton(domScope) {\n",
              "  let quickchartButtonEl =\n",
              "    domScope.querySelector('#df-3455744e-57d3-4b08-8c16-4ebf0fd735c2 button.colab-df-quickchart');\n",
              "  quickchartButtonEl.style.display =\n",
              "    google.colab.kernel.accessAllowed ? 'block' : 'none';\n",
              "}\n",
              "\n",
              "        displayQuickchartButton(document);\n",
              "      </script>\n",
              "      <style>\n",
              "    .colab-df-container {\n",
              "      display:flex;\n",
              "      flex-wrap:wrap;\n",
              "      gap: 12px;\n",
              "    }\n",
              "\n",
              "    .colab-df-convert {\n",
              "      background-color: #E8F0FE;\n",
              "      border: none;\n",
              "      border-radius: 50%;\n",
              "      cursor: pointer;\n",
              "      display: none;\n",
              "      fill: #1967D2;\n",
              "      height: 32px;\n",
              "      padding: 0 0 0 0;\n",
              "      width: 32px;\n",
              "    }\n",
              "\n",
              "    .colab-df-convert:hover {\n",
              "      background-color: #E2EBFA;\n",
              "      box-shadow: 0px 1px 2px rgba(60, 64, 67, 0.3), 0px 1px 3px 1px rgba(60, 64, 67, 0.15);\n",
              "      fill: #174EA6;\n",
              "    }\n",
              "\n",
              "    [theme=dark] .colab-df-convert {\n",
              "      background-color: #3B4455;\n",
              "      fill: #D2E3FC;\n",
              "    }\n",
              "\n",
              "    [theme=dark] .colab-df-convert:hover {\n",
              "      background-color: #434B5C;\n",
              "      box-shadow: 0px 1px 3px 1px rgba(0, 0, 0, 0.15);\n",
              "      filter: drop-shadow(0px 1px 2px rgba(0, 0, 0, 0.3));\n",
              "      fill: #FFFFFF;\n",
              "    }\n",
              "  </style>\n",
              "\n",
              "      <script>\n",
              "        const buttonEl =\n",
              "          document.querySelector('#df-b0e6a6f2-9286-4796-8d71-9ad0235b328e button.colab-df-convert');\n",
              "        buttonEl.style.display =\n",
              "          google.colab.kernel.accessAllowed ? 'block' : 'none';\n",
              "\n",
              "        async function convertToInteractive(key) {\n",
              "          const element = document.querySelector('#df-b0e6a6f2-9286-4796-8d71-9ad0235b328e');\n",
              "          const dataTable =\n",
              "            await google.colab.kernel.invokeFunction('convertToInteractive',\n",
              "                                                     [key], {});\n",
              "          if (!dataTable) return;\n",
              "\n",
              "          const docLinkHtml = 'Like what you see? Visit the ' +\n",
              "            '<a target=\"_blank\" href=https://colab.research.google.com/notebooks/data_table.ipynb>data table notebook</a>'\n",
              "            + ' to learn more about interactive tables.';\n",
              "          element.innerHTML = '';\n",
              "          dataTable['output_type'] = 'display_data';\n",
              "          await google.colab.output.renderOutput(dataTable, element);\n",
              "          const docLink = document.createElement('div');\n",
              "          docLink.innerHTML = docLinkHtml;\n",
              "          element.appendChild(docLink);\n",
              "        }\n",
              "      </script>\n",
              "    </div>\n",
              "  </div>\n"
            ]
          },
          "metadata": {},
          "execution_count": 19
        }
      ]
    },
    {
      "cell_type": "code",
      "source": [
        "# removing some untidy columns that is not required and not any correlations towards our dependent column views\n",
        "df.drop(['occupations', 'about_speakers', 'related_talks','description','transcript'], axis=1, inplace=True)\n"
      ],
      "metadata": {
        "id": "2Q1QH44f-Vw1"
      },
      "execution_count": 20,
      "outputs": []
    },
    {
      "cell_type": "markdown",
      "source": [
        "### What all manipulations have you done and insights you found?"
      ],
      "metadata": {
        "id": "MSa1f5Uengrz"
      }
    },
    {
      "cell_type": "markdown",
      "source": [
        "**Manipulations:**\n",
        "\n",
        "**Filling Missing Values**: The missing values in the 'comments', 'occupations', 'about_speakers', and 'all_speakers' columns have been filled with specific values (0, 'no data', 'no data', 'no data') using the fillna method.\n",
        "\n",
        "**Changing Data Types:** The data types of the 'comments', 'views', 'duration', and 'talk_id' columns have been changed to int32 using the astype method.\n",
        "\n",
        "**Date Conversion:** The 'recorded_date' and 'published_date' columns have been converted to datetime format using the pd.to_datetime method.\n",
        "\n",
        "**Column Removal**: The 'all_speakers', 'url', and 'talk_id' columns have been dropped from the DataFrame using the drop method.\n",
        "\n",
        "**Column Renaming:** The 'speaker_1' column has been renamed to 'speaker' using the rename method.\n",
        "\n",
        "**Additional Column Removal:** The 'occupations', 'about_speakers', 'related_talks', 'description', and 'transcript' columns have been dropped from the DataFrame using the drop method.\n",
        "\n",
        "**Insights:**\n",
        "\n",
        "**Popular TED Talks:** The code selects the top 15 popular TED Talks based on the 'views' column and creates a new DataFrame called 'popular_talk' containing the 'title', 'speaker', and 'views' of these popular talks. This provides insights into which talks and speakers are attracting the highest number of views.\n"
      ],
      "metadata": {
        "id": "LbyXE7I1olp8"
      }
    },
    {
      "cell_type": "markdown",
      "source": [
        "## ***4. Data Vizualization, Storytelling & Experimenting with charts : Understand the relationships between variables***"
      ],
      "metadata": {
        "id": "GF8Ens_Soomf"
      }
    },
    {
      "cell_type": "markdown",
      "source": [
        "#### Chart - 1"
      ],
      "metadata": {
        "id": "0wOQAZs5pc--"
      }
    },
    {
      "cell_type": "code",
      "source": [
        "# Chart - 1 visualization code\n",
        "\n",
        "# find popular talk show titles based on views\n",
        "popular_talk = df[['title', 'views']].sort_values('views', ascending=False)[0:15]\n",
        "popular_talk\n",
        "\n",
        "fig, ax = plt.subplots()\n",
        "# create a barplot with top 15 titles by views\n",
        "sns.barplot(x='views', y='title', data=popular_talk)\n",
        "ax.set_title('Top 15 title by views')\n"
      ],
      "metadata": {
        "id": "7v_ESjsspbW7",
        "colab": {
          "base_uri": "https://localhost:8080/",
          "height": 0
        },
        "outputId": "fe851765-508c-4137-b58f-5a434212659b"
      },
      "execution_count": 21,
      "outputs": [
        {
          "output_type": "execute_result",
          "data": {
            "text/plain": [
              "Text(0.5, 1.0, 'Top 15 title by views')"
            ]
          },
          "metadata": {},
          "execution_count": 21
        },
        {
          "output_type": "display_data",
          "data": {
            "text/plain": [
              "<Figure size 800x400 with 1 Axes>"
            ],
            "image/png": "[encoded data removed]"
          },
          "metadata": {}
        }
      ]
    },
    {
      "cell_type": "markdown",
      "source": [
        "##### 1. Why did you pick the specific chart?"
      ],
      "metadata": {
        "id": "K5QZ13OEpz2H"
      }
    },
    {
      "cell_type": "markdown",
      "source": [
        "**The main purpose of picking this chart is :---**\n",
        "\n",
        "**Comparing Values:** Barplots are an excellent choice for comparing the values of different categories, in this case, the number of views for each TED Talk title. The length of each bar corresponds directly to the number of views, making it easy to visually compare the popularity of different talks.\n",
        "\n",
        "**Ordering and Ranking:** The barplot is sorted in descending order, with the most viewed TED Talk titles on the top, which allows viewers to quickly identify the most popular talks without the need for further interpretation.\n",
        "\n",
        "**Categorical Data:** TED Talk titles are categorical data, and barplots are particularly useful for visualizing the distribution and comparison of categorical variables.\n",
        "\n",
        "**Simplicity and Clarity:** Barplots are simple and easy to understand, making them an accessible choice for conveying information to a broad audience. The clear visual representation of the number of views for each talk enhances the overall clarity of the plot.\n",
        "\n",
        "**Space Efficiency:** Barplots can efficiently display a large amount of data in a compact manner, making them suitable for visualizing the top 15 talks out of potentially hundreds or thousands of TED Talks in the dataset."
      ],
      "metadata": {
        "id": "XESiWehPqBRc"
      }
    },
    {
      "cell_type": "markdown",
      "source": [
        "##### 2. What is/are the insight(s) found from the chart?"
      ],
      "metadata": {
        "id": "lQ7QKXXCp7Bj"
      }
    },
    {
      "cell_type": "markdown",
      "source": [
        "This barplot representing the top 15 TED Talk titles by views, the insights that can be derived.\n",
        "\n",
        "Overall, the barplot allows viewers to quickly identify and compare the most popular TED Talks in terms of views, providing a snapshot of the talks that have captured the most attention and resonated with a broad audience. It offers valuable insights into the TED Talks that have been most successful in terms of viewership and impact."
      ],
      "metadata": {
        "id": "C_j1G7yiqdRP"
      }
    },
    {
      "cell_type": "markdown",
      "source": [
        "##### 3. Will the gained insights help creating a positive business impact?\n",
        "Are there any insights that lead to negative growth? Justify with specific reason."
      ],
      "metadata": {
        "id": "448CDAPjqfQr"
      }
    },
    {
      "cell_type": "markdown",
      "source": [
        "Yes, the insights gained from analyzing the most viewed TED Talks can have a positive business impact in several ways:\n",
        "\n",
        "Content Strategy:\n",
        "\n",
        "Influencer Marketing:\n",
        "\n",
        "Engagement Strategies:\n",
        "\n",
        "Content Personalization:\n",
        "\n",
        "Marketing Campaigns:\n",
        "\n",
        "Brand Reputation:\n",
        "\n",
        "Learning from Success Stories:\n",
        "\n",
        "Consumer Insights:"
      ],
      "metadata": {
        "id": "3cspy4FjqxJW"
      }
    },
    {
      "cell_type": "markdown",
      "source": [
        "#### Chart - 2"
      ],
      "metadata": {
        "id": "KSlN3yHqYklG"
      }
    },
    {
      "cell_type": "code",
      "source": [
        "# Chart - 2 visualization code\n",
        "\n",
        "# find popular talk show speakers based on views\n",
        "popular_talk_speaker = df[[ 'speaker', 'views']].sort_values('views', ascending=False)[0:15]\n",
        "popular_talk_speaker\n",
        "\n",
        "fig, ax = plt.subplots()\n",
        "# create a barplot with top 15 speakers by views\n",
        "sns.barplot(x='views', y='speaker', data=popular_talk_speaker)\n",
        "ax.set_title('Top 15 speakers by views')"
      ],
      "metadata": {
        "id": "R4YgtaqtYklH",
        "colab": {
          "base_uri": "https://localhost:8080/",
          "height": 0
        },
        "outputId": "361f1598-54ec-4df3-930f-ea18461138c1"
      },
      "execution_count": 22,
      "outputs": [
        {
          "output_type": "execute_result",
          "data": {
            "text/plain": [
              "Text(0.5, 1.0, 'Top 15 speakers by views')"
            ]
          },
          "metadata": {},
          "execution_count": 22
        },
        {
          "output_type": "display_data",
          "data": {
            "text/plain": [
              "<Figure size 800x400 with 1 Axes>"
            ],
            "image/png": "[encoded data removed]"
          },
          "metadata": {}
        }
      ]
    },
    {
      "cell_type": "markdown",
      "source": [
        "##### 1. Why did you pick the specific chart?"
      ],
      "metadata": {
        "id": "t6dVpIINYklI"
      }
    },
    {
      "cell_type": "markdown",
      "source": [
        "The main purpose of picking this chart is :---\n",
        "\n",
        "Comparing Values: Barplots are an excellent choice for comparing the values of different categories, in this case, the number of views for each TED Talk title. The length of each bar corresponds directly to the number of views, making it easy to visually compare the popularity of different talks.\n",
        "\n",
        "Ordering and Ranking: The barplot is sorted in descending order, with the most viewed TED Talk titles on the top, which allows viewers to quickly identify the most popular talks without the need for further interpretation.\n",
        "\n",
        "Categorical Data: TED Talk titles are categorical data, and barplots are particularly useful for visualizing the distribution and comparison of categorical variables.\n",
        "\n",
        "Simplicity and Clarity: Barplots are simple and easy to understand, making them an accessible choice for conveying information to a broad audience. The clear visual representation of the number of views for each talk enhances the overall clarity of the plot.\n",
        "\n",
        "Space Efficiency: Barplots can efficiently display a large amount of data in a compact manner, making them suitable for visualizing the top 15 talks out of potentially hundreds or thousands of TED Talks in the dataset."
      ],
      "metadata": {
        "id": "5aaW0BYyYklI"
      }
    },
    {
      "cell_type": "markdown",
      "source": [
        "##### 2. What is/are the insight(s) found from the chart?"
      ],
      "metadata": {
        "id": "ijmpgYnKYklI"
      }
    },
    {
      "cell_type": "markdown",
      "source": [
        "This barplot representing the top 15 TED Talk speakers by views, the insights that can be derived.\n",
        "\n",
        "Overall, the barplot allows viewers to quickly identify and compare the most popular TED Talks in terms of views, providing a snapshot of the talks that have captured the most attention and resonated with a broad audience. It offers valuable insights into the TED Talks that have been most successful in terms of viewership and impact."
      ],
      "metadata": {
        "id": "PSx9atu2YklI"
      }
    },
    {
      "cell_type": "markdown",
      "source": [
        "##### 3. Will the gained insights help creating a positive business impact?\n",
        "Are there any insights that lead to negative growth? Justify with specific reason."
      ],
      "metadata": {
        "id": "-JiQyfWJYklI"
      }
    },
    {
      "cell_type": "markdown",
      "source": [
        "Yes, the insights gained from analyzing the most viewed TED Talks can have a positive business impact in several ways:\n",
        "\n",
        "Content Strategy:\n",
        "\n",
        "Influencer Marketing:\n",
        "\n",
        "Engagement Strategies:\n",
        "\n",
        "Content Personalization:\n",
        "\n",
        "Marketing Campaigns:\n",
        "\n",
        "Brand Reputation:\n",
        "\n",
        "Learning from Success Stories:\n",
        "\n",
        "Consumer Insights:"
      ],
      "metadata": {
        "id": "BcBbebzrYklV"
      }
    },
    {
      "cell_type": "markdown",
      "source": [
        "#### Chart - 3"
      ],
      "metadata": {
        "id": "EM7whBJCYoAo"
      }
    },
    {
      "cell_type": "code",
      "source": [
        "# Chart - 3 visualization code\n",
        "\n",
        "# extracting month and day from recorded date\n",
        "month_order = ['Jan', 'Feb', 'Mar', 'Apr', 'May', 'Jun', 'Jul', 'Aug', 'Sep', 'Oct', 'Nov', 'Dec']\n",
        "day_order = ['Mon', 'Tue', 'Wed', 'Thu', 'Fri', 'Sat', 'Sun']\n",
        "\n",
        "# creating a new column 'month' in the DataFrame df by extracting the month from the 'recorded_date' column\n",
        "df['month'] = df['recorded_date'].dt.month.apply(lambda x: month_order[x - 1])\n",
        "\n",
        "# creating a DataFrame month_df to count the number of talks in each month and resetting the index\n",
        "month_df = pd.DataFrame(df['month'].value_counts()).reset_index()\n",
        "\n",
        "# renaming the columns in month_df for better readability\n",
        "month_df.columns = ['month', 'talks']\n",
        "plt.figure(figsize = (8,6))\n",
        "sns.barplot(x='month', y='talks', data=month_df, order=month_order)\n",
        "\n",
        "# adding labels and title to the plot\n",
        "plt.xlabel('Month')\n",
        "plt.ylabel('Number of Talks')\n",
        "plt.title('Number of TED Talks Recorded in Each Month')\n"
      ],
      "metadata": {
        "id": "t6GMdE67YoAp",
        "colab": {
          "base_uri": "https://localhost:8080/",
          "height": 0
        },
        "outputId": "cafb720e-24ea-416c-d092-fae8ffb1588f"
      },
      "execution_count": 23,
      "outputs": [
        {
          "output_type": "execute_result",
          "data": {
            "text/plain": [
              "Text(0.5, 1.0, 'Number of TED Talks Recorded in Each Month')"
            ]
          },
          "metadata": {},
          "execution_count": 23
        },
        {
          "output_type": "display_data",
          "data": {
            "text/plain": [
              "<Figure size 800x600 with 1 Axes>"
            ],
            "image/png": "[encoded data removed]"
          },
          "metadata": {}
        }
      ]
    },
    {
      "cell_type": "markdown",
      "source": [
        "##### 1. Why did you pick the specific chart?"
      ],
      "metadata": {
        "id": "fge-S5ZAYoAp"
      }
    },
    {
      "cell_type": "markdown",
      "source": [
        "Because it is a suitable choice for visualizing the distribution of talk counts across different months.\n",
        "\n",
        "The bar plot is commonly used to display categorical data, where each category is represented by a bar whose height corresponds to the value of that category. In this case, the categories are the months, and the height of each bar represents the number of talks recorded in each month."
      ],
      "metadata": {
        "id": "5dBItgRVYoAp"
      }
    },
    {
      "cell_type": "markdown",
      "source": [
        "##### 2. What is/are the insight(s) found from the chart?"
      ],
      "metadata": {
        "id": "85gYPyotYoAp"
      }
    },
    {
      "cell_type": "markdown",
      "source": [
        "**This bar plot shows the distribution of talks across different months, we can gather several insights:**\n",
        "\n",
        "**Seasonal Variation**: The plot reveals that there is some variation in the number of talks recorded each month. Certain months have higher talk counts than others, indicating a seasonal pattern in the frequency of talks.\n",
        "\n",
        "**Peak Months**: The bar plot allows us to identify the months with the highest number of talks (peaks). These peak months may indicate periods of increased activity or popularity in terms of talk recordings.\n",
        "\n",
        "**Low Months:** Conversely, we can also identify the months with the lowest number of talks (valleys). These low months may indicate periods of reduced activity or fewer events where talks are recorded.\n",
        "\n",
        "**Months with Similar Activity**: The bar plot helps us identify months with similar talk counts, suggesting consistency in recording talks during those periods.\n",
        "\n",
        "**Month Ranking**: The order of the bars provides a ranked view of the months based on talk counts, allowing us to quickly see which months are the most and least active in terms of talks.\n",
        "\n",
        "**Trends Over Time**: If the data covers multiple years, we can observe any trends or patterns in talk recording activity over time."
      ],
      "metadata": {
        "id": "4jstXR6OYoAp"
      }
    },
    {
      "cell_type": "markdown",
      "source": [
        "##### 3. Will the gained insights help creating a positive business impact?\n",
        "Are there any insights that lead to negative growth? Justify with specific reason."
      ],
      "metadata": {
        "id": "RoGjAbkUYoAp"
      }
    },
    {
      "cell_type": "markdown",
      "source": [
        "The gained insights from the bar plot showing the distribution of talks across different months can indeed help in creating a positive business impact. However, it is important to note that without specific context and business objectives, it is challenging to determine the direct impact. Nevertheless, I can provide some potential scenarios where the insights might be useful:\n",
        "\n",
        "Positive Business Impact:\n",
        "\n",
        "Event Planning and Resource Allocation: Understanding the seasonal variation in talk recordings can help in better planning and allocating resources. For example, if certain months consistently have higher talk counts, the business can focus its efforts and resources on organizing more events during those peak months to attract a larger audience.\n",
        "\n",
        "Promotional Strategies: Knowing the months with lower talk counts can help businesses tailor their promotional and marketing strategies to boost interest and attendance during those periods. Special promotions, incentives, or partnerships could be implemented to encourage more talk submissions and participation.\n",
        "\n",
        "Identifying Successful Topics or Themes: Analyzing the talks delivered during peak months can reveal patterns in successful topics or themes that resonate well with the audience. Businesses can use this insight to curate content for future events that align with audience preferences.\n",
        "\n",
        "Sponsorship and Partnerships: High-demand months might attract more sponsors and potential partners due to increased visibility and audience engagement. Businesses can leverage this insight to attract sponsorship deals and build valuable partnerships.\n",
        "\n",
        "Negative Growth Impact (Potential Scenario):\n",
        "One potential negative impact could be observed if the analysis reveals a continuous decline in talk recordings over time, with no apparent recovery or cyclical pattern. This trend might suggest a decrease in interest or engagement with the event, leading to reduced attendance and revenue.\n",
        "\n",
        "In such a scenario, the business should investigate the underlying reasons behind the decline, such as changes in market demand, evolving preferences of the target audience, or competition from similar events. By understanding these factors, the business can take corrective actions to revitalize interest and engagement, such as refreshing the event format, targeting new demographics, or offering unique incentives to speakers and attendees.\n",
        "\n",
        "Overall, the insights from the bar plot can provide valuable information to guide strategic decisions, improve event planning, and optimize resource allocation, all of which contribute to a positive business impact. However, the interpretation and utilization of these insights heavily depend on the specific context and goals of the business conducting the analysis."
      ],
      "metadata": {
        "id": "zfJ8IqMcYoAp"
      }
    },
    {
      "cell_type": "markdown",
      "source": [
        "#### Chart - 4"
      ],
      "metadata": {
        "id": "4Of9eVA-YrdM"
      }
    },
    {
      "cell_type": "code",
      "source": [
        "# Chart - 4 visualization code\n",
        "\n",
        "# Set the figure size for the plot\n",
        "plt.figure(figsize = (18,5))\n",
        "# Create a bar plot with 'views' on the x-axis and 'month' on the y-axis\n",
        "sns.barplot(x='views', y='month', data=df)\n",
        "# Add appropriate labels and title to the plot\n",
        "plt.xlabel('Views')\n",
        "plt.ylabel('Month')\n",
        "plt.title('Views by Month')\n",
        "\n",
        "\n",
        "# Set the figure size for the Scatter plot\n",
        "plt.figure(figsize=(18, 5))\n",
        "# Create a scatter plot with 'month' on the x-axis and 'views' on the y-axis\n",
        "sns.scatterplot(x='month', y='views', data=df)\n",
        "# Add labels and title to the plot\n",
        "plt.xlabel('Month')\n",
        "plt.ylabel('Views')\n",
        "plt.title('Scatter Plot: Views by Month')\n",
        "# Display the plot\n",
        "plt.show()"
      ],
      "metadata": {
        "id": "irlUoxc8YrdO",
        "colab": {
          "base_uri": "https://localhost:8080/",
          "height": 0
        },
        "outputId": "dfdf811e-da1c-409e-f480-428c14bcc471"
      },
      "execution_count": 24,
      "outputs": [
        {
          "output_type": "display_data",
          "data": {
            "text/plain": [
              "<Figure size 1800x500 with 1 Axes>"
            ],
            "image/png": "[encoded data removed]"
          },
          "metadata": {}
        },
        {
          "output_type": "display_data",
          "data": {
            "text/plain": [
              "<Figure size 1800x500 with 1 Axes>"
            ],
            "image/png": "[encoded data removed]"
          },
          "metadata": {}
        }
      ]
    },
    {
      "cell_type": "markdown",
      "source": [
        "##### 1. Why did you pick the specific chart?"
      ],
      "metadata": {
        "id": "iky9q4vBYrdO"
      }
    },
    {
      "cell_type": "markdown",
      "source": [
        "The specific charts used in the provided code are:\n",
        "\n",
        "**1.Bar Plot:** The bar plot is chosen to visualize the distribution of 'views' over different months. It is suitable when comparing the numerical values of a variable (in this case, 'views') for different categories (in this case, 'month'). Each bar represents the average 'views' for each month, allowing easy comparison between the months.\n",
        "\n",
        "**2.Scatter Plot:** The scatter plot is chosen to visualize the relationship between 'views' and 'month' with individual data points. It is suitable for exploring the distribution of two numerical variables and understanding any patterns or trends in the data. Each data point represents a specific 'views' value for a given month, showing how 'views' varies with 'month'.\n",
        "\n",
        "**Both charts serve different purposes:** the bar plot provides an overview of the average 'views' for each month, while the scatter plot allows us to see the individual data points and explore any correlations between 'views' and 'month'."
      ],
      "metadata": {
        "id": "aJRCwT6DYrdO"
      }
    },
    {
      "cell_type": "markdown",
      "source": [
        "##### 2. What is/are the insight(s) found from the chart?"
      ],
      "metadata": {
        "id": "F6T5p64dYrdO"
      }
    },
    {
      "cell_type": "markdown",
      "source": [
        "**Bar Plot:**\n",
        "\n",
        "1.The bar plot can show the average number of 'views' for each month, allowing you to identify which months tend to have higher or lower average views.\n",
        "\n",
        "2.It can help you compare the popularity of talks in different months and understand if certain months are more favorable for posting or promoting talks.\n",
        "\n",
        "3.If there are significant variations in 'views' between months, you may gain insights into seasonal trends or specific events that influence viewership.\n",
        "\n",
        "**Scatter Plot:**\n",
        "\n",
        "1.The scatter plot can help you visualize the individual 'views' data points for each month, showing the spread and distribution of 'views'.\n",
        "\n",
        "2.It can reveal any potential patterns or trends in 'views' over time, helping you identify months with higher variability or clusters of talks with similar 'views'.\n",
        "\n",
        "3.We can use the scatter plot to explore potential correlations between 'views' and 'month', such as whether certain months consistently have higher or lower 'views'."
      ],
      "metadata": {
        "id": "Xx8WAJvtYrdO"
      }
    },
    {
      "cell_type": "markdown",
      "source": [
        "#### Chart - 5"
      ],
      "metadata": {
        "id": "bamQiAODYuh1"
      }
    },
    {
      "cell_type": "code",
      "source": [
        "# Chart - 5 visualization code\n",
        "\n",
        "# Convert the 'year' column to datetime if it is in a string format (e.g., \"2021\")\n",
        "df['year'] = pd.to_datetime(df['year'], format='%Y')\n",
        "\n",
        "# Grouping the data by year and counting the number of daily_views for each year\n",
        "df1 = df.groupby(df['year'].dt.year)['daily_views'].count().reset_index()\n",
        "\n",
        "# Creating a bar plot with 'year' on the x-axis and 'daily_views' (number of TED talks) on the y-axis\n",
        "sns.barplot(x='year', y='daily_views', data=df1)\n",
        "\n",
        "# Adding a label for the y-axis\n",
        "plt.ylabel('Number of TED Talks')\n",
        "\n",
        "# Display the plot\n",
        "plt.show()"
      ],
      "metadata": {
        "id": "TIJwrbroYuh3",
        "colab": {
          "base_uri": "https://localhost:8080/",
          "height": 0
        },
        "outputId": "8c5a49bb-a575-41a2-abfe-9beb4d3131d1"
      },
      "execution_count": 25,
      "outputs": [
        {
          "output_type": "display_data",
          "data": {
            "text/plain": [
              "<Figure size 800x400 with 1 Axes>"
            ],
            "image/png": "[encoded data removed]"
          },
          "metadata": {}
        }
      ]
    },
    {
      "cell_type": "markdown",
      "source": [
        "##### 1. Why did you pick the specific chart?"
      ],
      "metadata": {
        "id": "QHF8YVU7Yuh3"
      }
    },
    {
      "cell_type": "markdown",
      "source": [
        "Because here bar plot is used to show the number of TED talks for each month. Bar plots are commonly used to display and compare categorical data, such as the count of TED talks in different months. They are useful when we want to show the distribution of data in discrete categories and compare values between different categories."
      ],
      "metadata": {
        "id": "dcxuIMRPYuh3"
      }
    },
    {
      "cell_type": "markdown",
      "source": [
        "##### 2. What is/are the insight(s) found from the chart?"
      ],
      "metadata": {
        "id": "GwzvFGzlYuh3"
      }
    },
    {
      "cell_type": "markdown",
      "source": [
        "Most TED talks are recorded and published during certain months: The plot shows the count of TED talks for each month, and we can observe that there are variations in the number of talks across different months. Some months have a higher number of TED talks, while others have a lower count.\n",
        "\n",
        "Seasonal patterns: The plot may reveal certain seasonal patterns in TED talk recordings. For example, there may be more TED talks during specific seasons or times of the year.\n",
        "\n",
        "Potential event or conference patterns: Certain months with a higher number of talks may correspond to periods when TED events or conferences are commonly held.\n",
        "\n",
        "Insights for content planning: The plot can be useful for content planning and scheduling future TED talks. Organizers can identify months with a lower number of talks and consider scheduling more talks during those periods to maintain a consistent flow of content.\n",
        "\n",
        "Trend over time: If the data covers multiple years, the plot can help observe any trends in the number of TED talks recorded over time. This can provide insights into the growth and popularity of TED talks."
      ],
      "metadata": {
        "id": "uyqkiB8YYuh3"
      }
    },
    {
      "cell_type": "markdown",
      "source": [
        "##### 3. Will the gained insights help creating a positive business impact?\n",
        "Are there any insights that lead to negative growth? Justify with specific reason."
      ],
      "metadata": {
        "id": "qYpmQ266Yuh3"
      }
    },
    {
      "cell_type": "markdown",
      "source": [
        "Positive Business Impact:\n",
        "\n",
        "Content Planning and Audience Engagement: The insights can help in content planning and scheduling TED talks more strategically. By identifying months with lower talk counts, the organizers can plan to increase the number of talks during those periods. This can ensure a consistent flow of engaging content, keeping the audience interested and coming back for more.\n",
        "\n",
        "Event Planning: If there are seasonal patterns or certain months with a higher number of talks, organizers can leverage this information to plan events or conferences during those periods. This can attract more attendees and create buzz around TED events, leading to increased brand visibility and positive audience engagement.\n",
        "\n",
        "Trend Analysis: If the data covers multiple years, the insights can help identify trends in the growth of TED talks over time. Understanding the growth patterns can aid in setting realistic targets and optimizing resource allocation for future TED events.\n",
        "\n",
        "Negative Growth:\n",
        "\n",
        "Saturation and Audience Fatigue: If there are months with a consistently high number of TED talks, it may lead to audience fatigue or reduced engagement. Overloading the audience with too many talks during certain periods can dilute the impact of individual talks and lead to decreased interest in attending or watching them.\n",
        "\n",
        "Missed Opportunities: On the other hand, if the insights are not used for content planning and event scheduling, there may be missed opportunities to capitalize on months with low talk counts. Failure to adjust the content strategy to address low periods may result in decreased audience engagement during those times.\n",
        "\n",
        "Overall, the insights gained from the chart can have a positive business impact if they are utilized strategically in content planning, event scheduling, and audience engagement efforts. However, to avoid negative growth, it's essential for the business to carefully analyze the data, adapt its content strategy, and strike a balance in the frequency of TED talks throughout the year."
      ],
      "metadata": {
        "id": "_WtzZ_hCYuh4"
      }
    },
    {
      "cell_type": "markdown",
      "source": [
        "#### Chart - 6"
      ],
      "metadata": {
        "id": "OH-pJp9IphqM"
      }
    },
    {
      "cell_type": "code",
      "source": [
        "# Chart - 6 visualization code\n",
        "\n",
        "# Assuming 'recorded_date' column is in the correct datetime format\n",
        "df['year'] = df['recorded_date'].dt.year\n",
        "\n",
        "# Creating a DataFrame with the count of TED talks for each year\n",
        "year_df = pd.DataFrame(df['year'].value_counts().reset_index())\n",
        "year_df.columns = ['year', 'talks']\n",
        "year_df = year_df.sort_values('year')\n",
        "\n",
        "plt.figure(figsize=(8, 5))\n",
        "sns.pointplot(x='year', y='talks', data=year_df)\n",
        "plt.xlabel('Year')\n",
        "plt.ylabel('Number of TED Talks')\n",
        "plt.title('Number of TED Talks by Year')\n",
        "plt.xticks(rotation=45)\n",
        "plt.show()"
      ],
      "metadata": {
        "id": "kuRf4wtuphqN",
        "colab": {
          "base_uri": "https://localhost:8080/",
          "height": 0
        },
        "outputId": "39ebd986-0f82-4e38-e61f-a67bbff24cf6"
      },
      "execution_count": 26,
      "outputs": [
        {
          "output_type": "display_data",
          "data": {
            "text/plain": [
              "<Figure size 800x500 with 1 Axes>"
            ],
            "image/png": "[encoded data removed]"
          },
          "metadata": {}
        }
      ]
    },
    {
      "cell_type": "markdown",
      "source": [
        "##### 1. Why did you pick the specific chart?"
      ],
      "metadata": {
        "id": "bbFf2-_FphqN"
      }
    },
    {
      "cell_type": "markdown",
      "source": [
        "I picked the specific chart, which is a point plot, to visualize the trend of the number of TED talks over the years. The point plot is suitable for showing the distribution and trends of a continuous variable (in this case, the year) with respect to a categorical variable (number of TED talks). It helps us see the variation in the number of talks across different years and identify any patterns or trends over time.\n",
        "\n",
        "The point plot uses a combination of individual data points and their mean value to represent the data, making it easy to see the general trend while still preserving the individual data points. This allows us to quickly identify any significant changes or patterns in the number of TED talks over the years.\n",
        "\n",
        "Moreover, since the number of TED talks is likely to be discrete and non-linear over the years, the point plot is a good choice as it does not assume a linear relationship between the variables.\n",
        "\n",
        "Overall, the point plot is a visually appealing and effective way to convey the information about the distribution and trends in the number of TED talks over the years."
      ],
      "metadata": {
        "id": "loh7H2nzphqN"
      }
    },
    {
      "cell_type": "markdown",
      "source": [
        "##### 2. What is/are the insight(s) found from the chart?"
      ],
      "metadata": {
        "id": "_ouA3fa0phqN"
      }
    },
    {
      "cell_type": "markdown",
      "source": [
        "From the point plot that visualizes the number of TED talks by year, we are gaining several insights:\n",
        "\n",
        "Steady Growth: The plot shows a steady growth in the number of TED talks over the years. Starting from around 2006, the number of talks has been increasing consistently until the most recent year in the dataset.\n",
        "\n",
        "Significant Spike: There is a notable spike in the number of TED talks around the year 2009, indicating a sudden increase in the frequency of talks during that period.\n",
        "\n",
        "Fluctuations: While there is overall growth, we can also observe some fluctuations in the number of talks in certain years. These fluctuations may be influenced by various factors, such as popular topics, event schedules, or changes in TED conference organization.\n",
        "\n",
        "Recent Years: The plot suggests that TED talks have remained popular and relevant in recent years, as the number of talks has continued to increase.\n",
        "\n",
        "Potential Seasonality: Although the dataset may not cover a sufficiently long time period to make conclusive statements, there seems to be a slight cyclical pattern, with certain years experiencing more talks than others.\n",
        "\n",
        "Opportunities for Trend Analysis: The plot can serve as a starting point for further trend analysis. By examining the topics and themes of talks in the years with significant spikes or fluctuations, one may identify underlying reasons for these variations.\n",
        "\n",
        "Overall, the point plot provides a clear and concise representation of the distribution of TED talks over the years, allowing us to identify trends, patterns, and potential areas for further exploration and analysis."
      ],
      "metadata": {
        "id": "VECbqPI7phqN"
      }
    },
    {
      "cell_type": "markdown",
      "source": [
        "##### 3. Will the gained insights help creating a positive business impact?\n",
        "Are there any insights that lead to negative growth? Justify with specific reason."
      ],
      "metadata": {
        "id": "Seke61FWphqN"
      }
    },
    {
      "cell_type": "markdown",
      "source": [
        "The gained insights from the analysis of TED talks data can potentially have a positive business impact. Here's how:\n",
        "\n",
        "Positive Business Impact:\n",
        "a. Steady Growth: The observation of steady growth in the number of TED talks over the years indicates the continued popularity and relevance of TED events. This can be a positive signal for businesses or individuals looking to collaborate with TED or sponsor TED talks as it shows a consistent and engaged audience.\n",
        "b. Significant Spike: Identifying the year with a significant spike in TED talks (around 2009) could help businesses and marketers understand what topics or events led to the increased interest. This information can be used to create targeted marketing strategies or partnerships during similar periods in the future to capitalize on such trends.\n",
        "c. Recent Years: The data shows that TED talks have remained popular in recent years, suggesting that businesses and individuals who engage with TED as sponsors, speakers, or content creators have an ongoing opportunity to reach a wide and engaged audience.\n",
        "\n",
        "Potential Negative Growth:\n",
        "It's important to note that the insights gained from the data do not directly suggest any negative growth. However, fluctuations in the number of talks in certain years could be seen as a potential challenge. To mitigate this, businesses and individuals looking to leverage TED talks for exposure or marketing should carefully consider the factors that contribute to these fluctuations. For example, understanding whether certain years had fewer talks due to scheduling conflicts, changes in event organization, or other external factors can help plan better strategies for engagement.\n",
        "\n",
        "Overall, the insights gained from the analysis of TED talks data offer valuable information for businesses and individuals looking to make a positive impact through collaborations, sponsorships, or content creation. Understanding audience trends, popular topics, and steady growth in TED talks viewership can guide marketing efforts and business decisions for better engagement and exposure."
      ],
      "metadata": {
        "id": "DW4_bGpfphqN"
      }
    },
    {
      "cell_type": "markdown",
      "source": [
        "#### Chart - 7"
      ],
      "metadata": {
        "id": "PIIx-8_IphqN"
      }
    },
    {
      "cell_type": "code",
      "source": [
        "# Chart - 7 visualization code\n",
        "# Apply log transformation to the 'views' column to reduce the scale of values\n",
        "df['views'] = np.log10(df['views'])\n",
        "\n",
        "# Plotting a histogram to visualize the distribution of log-transformed 'views' data\n",
        "# The 'displot' function from seaborn library is used for plotting the histogram\n",
        "# It will automatically create a histogram and display the data distribution\n",
        "sns.displot(df['views'])\n",
        "\n",
        "# Adding labels and titles to the plot for better understanding\n",
        "plt.xlabel('Log10 of Views')\n",
        "plt.ylabel('Frequency')\n",
        "plt.title('Distribution of Views (Log Scale)')\n",
        "\n",
        "# Display the plot\n",
        "plt.show()"
      ],
      "metadata": {
        "id": "lqAIGUfyphqO",
        "colab": {
          "base_uri": "https://localhost:8080/",
          "height": 0
        },
        "outputId": "64f29b97-7910-46af-8f9a-5191f1054281"
      },
      "execution_count": 27,
      "outputs": [
        {
          "output_type": "display_data",
          "data": {
            "text/plain": [
              "<Figure size 500x500 with 1 Axes>"
            ],
            "image/png": "[encoded data removed]"
          },
          "metadata": {}
        }
      ]
    },
    {
      "cell_type": "markdown",
      "source": [
        "##### 1. Why did you pick the specific chart?"
      ],
      "metadata": {
        "id": "t27r6nlMphqO"
      }
    },
    {
      "cell_type": "markdown",
      "source": [
        "1.Data Distribution: The log transformation is often used to deal with highly skewed data, and a histogram is an effective way to visualize the distribution of such data. It allows us to observe the concentration of data points in different bins and identify any patterns or characteristics in the distribution.\n",
        "\n",
        "2.Frequency Count: Histograms display the frequency of data points within each bin, showing how many data points fall into specific intervals. This allows us to understand the density of data points in different regions of the log-transformed 'views' data.\n",
        "\n",
        "3.Bins and Bin Width: Histograms automatically divide the range of data into bins, and the number of bins can be adjusted to provide more or less granularity in the visualization. The choice of bin width can impact how the data distribution is represented.\n",
        "\n",
        "4.Log Transformation: The log transformation is commonly used for data with a wide range of values, as it compresses the scale and helps in visualizing data with both small and large values on a single plot. A histogram is well-suited to display the distribution of log-transformed data.\n",
        "\n",
        "Overall, the histogram is an informative choice for this particular scenario as it enables us to explore the distribution of log-transformed 'views' data and understand its characteristics more effectively."
      ],
      "metadata": {
        "id": "iv6ro40sphqO"
      }
    },
    {
      "cell_type": "markdown",
      "source": [
        "##### 2. What is/are the insight(s) found from the chart?"
      ],
      "metadata": {
        "id": "r2jJGEOYphqO"
      }
    },
    {
      "cell_type": "markdown",
      "source": [
        "From the histogram of the log-transformed 'views' data, the following insights can be observed:\n",
        "\n",
        "**Data Distribution:** The log-transformed 'views' data appears to follow a roughly normal distribution. The majority of TED talk views seem to be concentrated around a specific range, with a peak in the histogram.\n",
        "\n",
        "**Skewness:** The distribution is slightly right-skewed, indicating that there are relatively more TED talks with lower log-transformed view counts compared to talks with higher view counts. This suggests that there may be a few talks with exceptionally high view counts that are influencing the right tail of the distribution.\n",
        "\n",
        "**Spread of Views:** The histogram shows that the range of log-transformed view counts is relatively compact, which implies that the spread of views among TED talks is not extremely wide.\n",
        "\n",
        "**Central Tendency:** The central peak in the histogram indicates that there is a common value or range of values around which the log-transformed view counts tend to cluster. This could represent the average or typical level of viewership for TED talks.\n",
        "\n",
        "**Outliers:** Although the histogram does not explicitly show individual outliers, the slight right-skewness hints at the presence of a few talks with exceptionally high view counts, which are likely represented by outliers in the original view counts.\n",
        "\n",
        "**Log Scale Effect:** The log transformation has effectively reduced the scale of the view counts, making it easier to visualize the data and identify patterns within the histogram."
      ],
      "metadata": {
        "id": "Po6ZPi4hphqO"
      }
    },
    {
      "cell_type": "markdown",
      "source": [
        "##### 3. Will the gained insights help creating a positive business impact?\n",
        "Are there any insights that lead to negative growth? Justify with specific reason."
      ],
      "metadata": {
        "id": "b0JNsNcRphqO"
      }
    },
    {
      "cell_type": "markdown",
      "source": [
        "The gained insights from the log-transformed 'views' data can potentially help create a positive business impact. Here's how:\n",
        "\n",
        "**Positive Business Impact:**\n",
        "\n",
        "Understanding Viewer Engagement: By examining the distribution of log-transformed view counts, businesses can gain insights into the typical viewership of TED talks. This information can help them understand the level of engagement and interest their content generates among the audience.\n",
        "\n",
        "Content Strategy Optimization: Identifying the range of log-transformed view counts where TED talks tend to cluster can assist businesses in optimizing their content strategy. They can focus on creating content that aligns with the interests of their target audience, aiming for viewership levels that align with the central peak of the distribution.\n",
        "\n",
        "Identifying High-Performing Talks: The presence of outliers in the log-transformed view counts suggests the existence of TED talks that have achieved exceptionally high viewership. By identifying these high-performing talks, businesses can analyze their characteristics, format, and content to learn what makes them successful. This insight can guide them in creating more impactful and engaging content in the future.\n",
        "\n",
        "Viewer Engagement Trends: Monitoring the trend of log-transformed view counts over time can provide valuable insights into viewer engagement patterns. Businesses can identify periods of increased interest in TED talks, allowing them to plan promotional activities, partnerships, or special events to capitalize on these trends."
      ],
      "metadata": {
        "id": "xvSq8iUTphqO"
      }
    },
    {
      "cell_type": "markdown",
      "source": [
        "#### Chart - 8"
      ],
      "metadata": {
        "id": "BZR9WyysphqO"
      }
    },
    {
      "cell_type": "code",
      "source": [
        "# Chart - 8 visualization code\n",
        "\n",
        "# Setting the figure size and layout for the subplots\n",
        "fig = plt.figure(figsize=(15, 5))\n",
        "\n",
        "# Subplot 1: Distribution of 'views'\n",
        "plt.subplot(1, 3, 1)\n",
        "plt.title(\"Distribution of Views\")\n",
        "sns.distplot(df['views'])\n",
        "plt.xlabel(\"Views\")\n",
        "\n",
        "# Subplot 2: Distribution of 'comments'\n",
        "plt.subplot(1, 3, 2)\n",
        "plt.title(\"Distribution of Number of Comments\")\n",
        "sns.distplot(df['comments'])\n",
        "plt.xlabel(\"Number of Comments\")\n",
        "\n",
        "# Subplot 3: Distribution of 'duration'\n",
        "plt.subplot(1, 3, 3)\n",
        "plt.title(\"Distribution of Talk Duration\")\n",
        "sns.distplot(df['duration'])\n",
        "plt.xlabel(\"Duration (in seconds)\")\n",
        "\n",
        "# Displaying the subplots\n",
        "plt.tight_layout()\n",
        "plt.show()"
      ],
      "metadata": {
        "id": "TdPTWpAVphqO",
        "colab": {
          "base_uri": "https://localhost:8080/",
          "height": 0
        },
        "outputId": "48e92ba5-d2f7-45db-974a-650da84b9a33"
      },
      "execution_count": 28,
      "outputs": [
        {
          "output_type": "display_data",
          "data": {
            "text/plain": [
              "<Figure size 1500x500 with 3 Axes>"
            ],
            "image/png": "[encoded data removed]"
          },
          "metadata": {}
        }
      ]
    },
    {
      "cell_type": "markdown",
      "source": [
        "##### 1. Why did you pick the specific chart?"
      ],
      "metadata": {
        "id": "jj7wYXLtphqO"
      }
    },
    {
      "cell_type": "markdown",
      "source": [
        "The specific chart used is a set of three subplots arranged in a single row, each representing the distribution of a numerical variable ('views', 'comments', and 'duration'). I picked this specific chart because it allows us to visualize and compare the distributions of these variables side by side.\n",
        "\n",
        "By using a set of subplots, we can efficiently display multiple distributions in a compact and organized manner. This arrangement helps in gaining insights into the data quickly, as we can observe the shape, spread, and central tendency of each distribution without switching between different plots.\n",
        "\n",
        "The use of sns.distplot to plot the distributions allows us to see both the histogram and the Kernel Density Estimate (KDE) overlaid on top of it. This additional information provides a more comprehensive view of the data and helps in understanding the underlying data density.\n",
        "\n",
        "Overall, the specific chart choice makes it easy to identify patterns, outliers, and potential data issues in the numerical variables, providing valuable insights for further analysis and decision-making."
      ],
      "metadata": {
        "id": "Ob8u6rCTphqO"
      }
    },
    {
      "cell_type": "markdown",
      "source": [
        "##### 2. What is/are the insight(s) found from the chart?"
      ],
      "metadata": {
        "id": "eZrbJ2SmphqO"
      }
    },
    {
      "cell_type": "markdown",
      "source": [
        "From the three subplots, we can draw the following insights:\n",
        "\n",
        "Views Distribution: The first subplot shows the distribution of the 'views' variable. We can observe that the majority of TED talks have relatively lower views, as the histogram peak is on the left side of the plot. However, there are also a few talks that have a significantly higher number of views, as indicated by the tail on the right side of the plot. This suggests that while most talks might have average or below-average views, there are some highly popular talks that attract a large audience.\n",
        "\n",
        "Number of Comments Distribution: The second subplot displays the distribution of the 'comments' variable. Similar to the 'views' distribution, the majority of TED talks have a lower number of comments, with the histogram peak on the left side of the plot. However, there are a few talks that received a relatively higher number of comments, leading to a tail on the right side of the plot. This indicates that certain talks spark more engagement and discussions among viewers.\n",
        "\n",
        "Duration of Talk Distribution: The third subplot represents the distribution of the 'duration' variable, which shows the length of each TED talk. The distribution appears to be bimodal, with two peaks, suggesting that there are two common talk durations. The majority of TED talks fall into one of these two categories, potentially indicating that TED organizers prefer talks within specific time frames for better audience engagement.\n",
        "\n",
        "These insights help us understand the patterns and characteristics of the data. For instance, the variations in the 'views' and 'comments' distributions highlight the diversity in talk popularity and engagement. Additionally, the bimodal distribution of talk durations may be indicative of how TED organizers curate and manage talk lengths for their events. Understanding these insights can inform decision-making and content strategies for TED organizers, speakers, and marketers to optimize the reach and impact of TED talks."
      ],
      "metadata": {
        "id": "mZtgC_hjphqO"
      }
    },
    {
      "cell_type": "markdown",
      "source": [
        "##### 3. Will the gained insights help creating a positive business impact?\n",
        "Are there any insights that lead to negative growth? Justify with specific reason."
      ],
      "metadata": {
        "id": "rFu4xreNphqO"
      }
    },
    {
      "cell_type": "markdown",
      "source": [
        "The gained insights can potentially help in creating a positive business impact for TED as an organization and for the TED speakers. Here's how:\n",
        "\n",
        "Positive Business Impact:\n",
        "\n",
        "Content Curation: Understanding the distribution of views and comments can help TED organizers curate content more effectively. They can identify topics or themes that resonate with the audience and feature more talks related to those subjects. This targeted approach can lead to increased engagement and viewership.\n",
        "\n",
        "Speaker Selection: Analyzing the data on views and comments can assist in identifying high-performing speakers whose talks attract a larger audience and generate more discussions. TED can invite such speakers more frequently, enhancing the overall quality of their events and increasing audience satisfaction.\n",
        "\n",
        "Monetization Opportunities: Talks that receive higher views and engagement can potentially attract more sponsorship and advertising opportunities, leading to increased revenue for TED.\n",
        "\n",
        "Audience Engagement: TED can use the insights from the duration distribution to optimize the length of talks. By understanding the preferred durations, they can maintain audience interest and retain viewers for longer periods, leading to higher overall satisfaction and engagement.\n",
        "\n",
        "Negative Growth:\n",
        "It's important to note that the insights themselves do not directly lead to negative growth. However, if TED does not leverage these insights effectively, there could be missed opportunities for growth:\n",
        "\n",
        "Missed Revenue Potential: If TED fails to recognize high-performing talks and speakers, they may miss the chance to attract sponsors and advertisers for those specific talks. This could result in lost revenue potential.\n",
        "\n",
        "Decreased Engagement: If TED does not use the data on views and comments to curate compelling content, the overall engagement with TED talks may decrease. This could lead to a decline in viewer interest and potential negative growth in the organization's reach and impact."
      ],
      "metadata": {
        "id": "ey_0qi68phqO"
      }
    },
    {
      "cell_type": "markdown",
      "source": [
        "#### Chart - 9"
      ],
      "metadata": {
        "id": "YJ55k-q6phqO"
      }
    },
    {
      "cell_type": "code",
      "source": [
        "# Chart - 9 visualization code\n",
        "\n",
        "# Boxplot - Views by Month\n",
        "# Set the figure size for the plot\n",
        "plt.figure(figsize=(12, 6))\n",
        "\n",
        "# Create a boxplot with 'month' on the x-axis and 'views' on the y-axis\n",
        "sns.boxplot(x='month', y='views', data=df)\n",
        "\n",
        "# Add labels and title to the plot\n",
        "plt.xlabel('Month')\n",
        "plt.ylabel('Views')\n",
        "plt.title('Boxplot: Views by Month')\n",
        "\n",
        "# Show the plot\n",
        "plt.show()"
      ],
      "metadata": {
        "id": "B2aS4O1ophqO",
        "colab": {
          "base_uri": "https://localhost:8080/",
          "height": 0
        },
        "outputId": "ab153bba-8dc6-4201-d285-971bf26fbd27"
      },
      "execution_count": 29,
      "outputs": [
        {
          "output_type": "display_data",
          "data": {
            "text/plain": [
              "<Figure size 1200x600 with 1 Axes>"
            ],
            "image/png": "[encoded data removed]"
          },
          "metadata": {}
        }
      ]
    },
    {
      "cell_type": "markdown",
      "source": [
        "##### 1. Why did you pick the specific chart?"
      ],
      "metadata": {
        "id": "gCFgpxoyphqP"
      }
    },
    {
      "cell_type": "markdown",
      "source": [
        "I picked the boxplot as it is a suitable visualization for comparing the distribution of 'views' across different months. The boxplot displays the median, quartiles, and any outliers, which allows us to quickly identify the central tendency and variability of 'views' for each month."
      ],
      "metadata": {
        "id": "TVxDimi2phqP"
      }
    },
    {
      "cell_type": "markdown",
      "source": [
        "##### 2. What is/are the insight(s) found from the chart?"
      ],
      "metadata": {
        "id": "OVtJsKN_phqQ"
      }
    },
    {
      "cell_type": "markdown",
      "source": [
        "From the boxplot, we can observe the following insights:\n",
        "\n",
        "Median Views: The median number of views for TED talks is higher in the months of February, March, April, and June, indicating that these months tend to have higher viewership compared to other months.\n",
        "\n",
        "Outliers: We can see that there are a few outliers in the data, especially in the months of May, July, August, and October. These outliers represent TED talks that received an exceptionally high number of views in those months.\n",
        "\n",
        "Variability: The interquartile range (IQR) for the number of views is relatively consistent across most months, indicating a relatively stable viewership distribution. However, in some months like May and October, the IQR is wider, suggesting greater variability in the number of views for TED talks during those periods.\n",
        "\n",
        "Seasonal Patterns: The boxplot suggests the presence of potential seasonal patterns in TED talk viewership. For example, there might be higher interest in TED talks during certain months, leading to increased viewership during those periods.\n",
        "\n",
        "Overall, the boxplot provides valuable insights into the distribution of views across different months, helping us understand viewership patterns and identify potential factors that influence the popularity of TED talks throughout the year."
      ],
      "metadata": {
        "id": "ngGi97qjphqQ"
      }
    },
    {
      "cell_type": "markdown",
      "source": [
        "##### 3. Will the gained insights help creating a positive business impact?\n",
        "Are there any insights that lead to negative growth? Justify with specific reason."
      ],
      "metadata": {
        "id": "lssrdh5qphqQ"
      }
    },
    {
      "cell_type": "markdown",
      "source": [
        "The gained insights from the boxplot can indeed help create a positive business impact for TED talks or any organization using similar data-driven strategies. Let's examine how the insights can contribute to a positive impact and whether there are any potential insights that might lead to negative growth:\n",
        "\n",
        "Positive Business Impact:\n",
        "\n",
        "Optimizing Content Strategy: Understanding the months with higher median views (February, March, April, and June) can help content creators and marketers focus their efforts on promoting TED talks during these months. They can tailor their content and promotional campaigns to align with the audience's preferences during these periods, potentially leading to increased viewership and engagement.\n",
        "\n",
        "Identifying Successful Talks: By analyzing the outliers representing talks with exceptionally high views, TED organizers can identify the characteristics or topics that resonate strongly with the audience. This information can guide them in selecting speakers and themes for future TED events, increasing the chances of creating popular and impactful talks.\n",
        "\n",
        "Allocating Resources: Recognizing the months with wider interquartile ranges (e.g., May and October) allows TED organizers to allocate their resources effectively. They can plan additional marketing efforts or promotions during these months to maintain viewership stability and attract more audience attention.\n",
        "\n",
        "Negative Growth:\n",
        "\n",
        "Based on the insights gained from the boxplot, there are no specific factors that suggest a direct negative impact on growth. However, it's essential to interpret the insights in the context of the broader business strategy:\n",
        "\n",
        "Avoiding Overinterpretation: While the boxplot provides valuable insights, it's important not to overinterpret the data and make hasty decisions solely based on monthly views. Other external factors, such as current events, holidays, or cultural trends, may also influence viewership. Therefore, making data-driven decisions should be complemented with other qualitative and quantitative analyses.\n",
        "\n",
        "Seasonal Fluctuations: The presence of seasonal patterns may indicate fluctuations in viewership throughout the year. While it can be useful to capitalize on peak months, it's crucial to maintain a consistent content strategy during other months to retain the audience and avoid negative growth during off-peak periods.\n",
        "\n",
        "Overall, the insights gained from the boxplot can contribute positively to the business impact by guiding content strategies, speaker selections, and resource allocation. However, it's essential to balance data-driven decisions with a comprehensive understanding of the audience's preferences and needs to ensure sustained growth and engagement."
      ],
      "metadata": {
        "id": "tBpY5ekJphqQ"
      }
    },
    {
      "cell_type": "markdown",
      "source": [
        "#### Chart - 10"
      ],
      "metadata": {
        "id": "U2RJ9gkRphqQ"
      }
    },
    {
      "cell_type": "code",
      "source": [
        "# Chart - 10 visualization code\n",
        "# checking duration and views columns Outliers using boxplot\n",
        "\n",
        "# List of columns for which box plots will be created\n",
        "columns = ['views', 'duration']\n",
        "\n",
        "# Initialize a variable 'n' to keep track of the position of each subplot in the grid\n",
        "n = 1\n",
        "\n",
        "# Create a figure with size 18x12 inches to accommodate the 3x3 grid of subplots\n",
        "plt.figure(figsize=(18, 12))\n",
        "\n",
        "# Loop through each column in 'columns' to create a box plot for each one\n",
        "for i in columns:\n",
        "    # Create a subplot at the 'n'-th position in the 3x3 grid\n",
        "    plt.subplot(3, 3, n)\n",
        "\n",
        "    # Increment 'n' to move to the next position for the next subplot\n",
        "    n += 1\n",
        "\n",
        "    # Create a box plot for the current column 'i' from the DataFrame 'df'\n",
        "    sns.boxplot(df[i])\n",
        "\n",
        "    # Set the title of the current subplot to the name of the column being visualized\n",
        "    plt.title(i)\n",
        "\n",
        "    # Adjust the spacing between subplots to prevent overlapping\n",
        "    plt.tight_layout()\n",
        "\n",
        "# Display the grid of box plots\n",
        "plt.show()"
      ],
      "metadata": {
        "id": "GM7a4YP4phqQ",
        "colab": {
          "base_uri": "https://localhost:8080/",
          "height": 436
        },
        "outputId": "790f2df5-2f8e-48d9-9334-ca44668b1fb1"
      },
      "execution_count": 42,
      "outputs": [
        {
          "output_type": "display_data",
          "data": {
            "text/plain": [
              "<Figure size 1800x1200 with 2 Axes>"
            ],
            "image/png": "[encoded data removed]"
          },
          "metadata": {}
        }
      ]
    },
    {
      "cell_type": "markdown",
      "source": [
        "##### 1. Why did you pick the specific chart?"
      ],
      "metadata": {
        "id": "1M8mcRywphqQ"
      }
    },
    {
      "cell_type": "markdown",
      "source": [
        "I picked the specific chart, which is a box plot, because it is suitable for visualizing the distribution and statistical summary of numerical data. Here's why the box plot is a good choice for the given scenario:\n",
        "\n",
        "Comparison of Distributions: Box plots allow us to compare the distributions of multiple numerical variables (in this case, 'views' and 'duration') side by side. This helps us understand the range, spread, and central tendencies of each variable and facilitates easy comparisons between them.\n",
        "\n",
        "Identifying Outliers: Box plots help identify potential outliers in the data. Outliers are data points that fall far outside the typical range of the data. They can have a significant impact on the overall analysis, and the box plot easily highlights them as individual points beyond the whiskers.\n",
        "\n",
        "Visualizing Spread and Variability: The box plot's central box represents the interquartile range (IQR), which contains the middle 50% of the data. The length of the box gives an indication of the data's spread and variability.\n",
        "\n",
        "Summary of Central Tendencies: The line inside the box represents the median, a measure of the central tendency. It gives us an idea of the typical value of the data, which is valuable for understanding the dataset."
      ],
      "metadata": {
        "id": "8agQvks0phqQ"
      }
    },
    {
      "cell_type": "markdown",
      "source": [
        "##### 2. What is/are the insight(s) found from the chart?"
      ],
      "metadata": {
        "id": "tgIPom80phqQ"
      }
    },
    {
      "cell_type": "markdown",
      "source": [
        "From the box plots for 'views' and 'duration', we can gain several insights:\n",
        "\n",
        "**Views Distribution:** The 'views' box plot shows that the majority of TED talks have views clustered around the lower end of the scale. The median (shown by the line inside the box) appears to be relatively low, indicating that most talks receive moderate views. The box (interquartile range) is relatively narrow, suggesting that the data points are not spread out widely.\n",
        "\n",
        "**Outliers** in Views: There are several data points beyond the whiskers (outliers) in the 'views' box plot. These outliers represent TED talks that have significantly higher views than the majority. These talks could be highly popular or have gone viral, attracting a large audience.\n",
        "\n",
        "**Duration Distribution**: The 'duration' box plot indicates that the TED talks' durations are generally distributed around the median value, with a few outliers on the longer end. The box is relatively compact, suggesting that the majority of talks have durations within a similar range.\n",
        "\n",
        "**Outliers in Duration:** There are a few data points beyond the upper whisker (outliers) in the 'duration' box plot. These outliers represent TED talks that have longer durations than the majority. These talks might be special cases, such as keynote presentations or panel discussions.\n",
        "\n",
        "**Comparing Views and Duration:** By comparing the two box plots, we can observe that the 'views' plot has more outliers than the 'duration' plot. This indicates that TED talks with significantly higher views can have varying durations, from shorter talks to longer ones.\n",
        "\n",
        "**No Missing Values:** The absence of data points outside the whiskers on the lower end of the 'views' and 'duration' plots suggests that there are no negative or missing values in these attributes."
      ],
      "metadata": {
        "id": "Qp13pnNzphqQ"
      }
    },
    {
      "cell_type": "markdown",
      "source": [
        "##### 3. Will the gained insights help creating a positive business impact?\n",
        "Are there any insights that lead to negative growth? Justify with specific reason."
      ],
      "metadata": {
        "id": "JMzcOPDDphqR"
      }
    },
    {
      "cell_type": "markdown",
      "source": [
        "The insights gained from the box plots can potentially have a positive business impact, as they provide valuable information about the distribution and characteristics of TED talks' views and durations. However, there are no insights that directly indicate negative growth. Let's explore the positive impact and possible considerations:\n",
        "\n",
        "Positive Business Impact:\n",
        "\n",
        "Content Optimization: Understanding the distribution of 'views' can help TED organizers and content creators identify trends in talk popularity. They can focus on topics, formats, or speakers that tend to attract higher views, leading to the creation of more engaging and relevant content.\n",
        "\n",
        "Targeting Outliers: Identifying talks with significantly higher views (outliers) can present opportunities for further analysis. By understanding the factors that contribute to the success of these talks, TED can replicate successful strategies, improve engagement, and potentially attract more viewers.\n",
        "\n",
        "Identifying Popular Formats: Analyzing the duration distribution can help TED organizers determine the ideal talk length that resonates with the audience. If shorter talks tend to attract more views, they may consider curating more talks within that time frame.\n",
        "\n",
        "Engagement Strategies: By analyzing the relationship between views and duration, TED can develop engagement strategies to retain viewers throughout longer talks. They can implement interactive elements or optimize storytelling to maintain audience interest."
      ],
      "metadata": {
        "id": "R4Ka1PC2phqR"
      }
    },
    {
      "cell_type": "markdown",
      "source": [
        "#### Chart - 11"
      ],
      "metadata": {
        "id": "x-EpHcCOp1ci"
      }
    },
    {
      "cell_type": "code",
      "source": [
        "# Chart - 11 visualization code"
      ],
      "metadata": {
        "id": "mAQTIvtqp1cj"
      },
      "execution_count": null,
      "outputs": []
    },
    {
      "cell_type": "markdown",
      "source": [
        "##### 1. Why did you pick the specific chart?"
      ],
      "metadata": {
        "id": "X_VqEhTip1ck"
      }
    },
    {
      "cell_type": "markdown",
      "source": [
        "Answer Here."
      ],
      "metadata": {
        "id": "-vsMzt_np1ck"
      }
    },
    {
      "cell_type": "markdown",
      "source": [
        "##### 2. What is/are the insight(s) found from the chart?"
      ],
      "metadata": {
        "id": "8zGJKyg5p1ck"
      }
    },
    {
      "cell_type": "markdown",
      "source": [
        "Answer Here"
      ],
      "metadata": {
        "id": "ZYdMsrqVp1ck"
      }
    },
    {
      "cell_type": "markdown",
      "source": [
        "##### 3. Will the gained insights help creating a positive business impact?\n",
        "Are there any insights that lead to negative growth? Justify with specific reason."
      ],
      "metadata": {
        "id": "PVzmfK_Ep1ck"
      }
    },
    {
      "cell_type": "markdown",
      "source": [
        "Answer Here"
      ],
      "metadata": {
        "id": "druuKYZpp1ck"
      }
    },
    {
      "cell_type": "markdown",
      "source": [
        "#### Chart - 12"
      ],
      "metadata": {
        "id": "n3dbpmDWp1ck"
      }
    },
    {
      "cell_type": "code",
      "source": [
        "# Chart - 12 visualization code"
      ],
      "metadata": {
        "id": "bwevp1tKp1ck"
      },
      "execution_count": null,
      "outputs": []
    },
    {
      "cell_type": "markdown",
      "source": [
        "##### 1. Why did you pick the specific chart?"
      ],
      "metadata": {
        "id": "ylSl6qgtp1ck"
      }
    },
    {
      "cell_type": "markdown",
      "source": [
        "Answer Here."
      ],
      "metadata": {
        "id": "m2xqNkiQp1ck"
      }
    },
    {
      "cell_type": "markdown",
      "source": [
        "##### 2. What is/are the insight(s) found from the chart?"
      ],
      "metadata": {
        "id": "ZWILFDl5p1ck"
      }
    },
    {
      "cell_type": "markdown",
      "source": [
        "Answer Here"
      ],
      "metadata": {
        "id": "x-lUsV2mp1ck"
      }
    },
    {
      "cell_type": "markdown",
      "source": [
        "##### 3. Will the gained insights help creating a positive business impact?\n",
        "Are there any insights that lead to negative growth? Justify with specific reason."
      ],
      "metadata": {
        "id": "M7G43BXep1ck"
      }
    },
    {
      "cell_type": "markdown",
      "source": [
        "Answer Here"
      ],
      "metadata": {
        "id": "5wwDJXsLp1cl"
      }
    },
    {
      "cell_type": "markdown",
      "source": [
        "#### Chart - 13"
      ],
      "metadata": {
        "id": "Ag9LCva-p1cl"
      }
    },
    {
      "cell_type": "code",
      "source": [
        "# Chart - 13 visualization code"
      ],
      "metadata": {
        "id": "EUfxeq9-p1cl"
      },
      "execution_count": null,
      "outputs": []
    },
    {
      "cell_type": "markdown",
      "source": [
        "##### 1. Why did you pick the specific chart?"
      ],
      "metadata": {
        "id": "E6MkPsBcp1cl"
      }
    },
    {
      "cell_type": "markdown",
      "source": [
        "Answer Here."
      ],
      "metadata": {
        "id": "V22bRsFWp1cl"
      }
    },
    {
      "cell_type": "markdown",
      "source": [
        "##### 2. What is/are the insight(s) found from the chart?"
      ],
      "metadata": {
        "id": "2cELzS2fp1cl"
      }
    },
    {
      "cell_type": "markdown",
      "source": [
        "Answer Here"
      ],
      "metadata": {
        "id": "ozQPc2_Ip1cl"
      }
    },
    {
      "cell_type": "markdown",
      "source": [
        "##### 3. Will the gained insights help creating a positive business impact?\n",
        "Are there any insights that lead to negative growth? Justify with specific reason."
      ],
      "metadata": {
        "id": "3MPXvC8up1cl"
      }
    },
    {
      "cell_type": "markdown",
      "source": [
        "Answer Here"
      ],
      "metadata": {
        "id": "GL8l1tdLp1cl"
      }
    },
    {
      "cell_type": "markdown",
      "source": [
        "#### Chart - 14 - Correlation Heatmap"
      ],
      "metadata": {
        "id": "NC_X3p0fY2L0"
      }
    },
    {
      "cell_type": "code",
      "source": [
        "# Correlation Heatmap visualization code\n",
        "# Selecting numeric columns for correlation analysis\n",
        "numeric_columns = df.select_dtypes(include='number')\n",
        "\n",
        "# Calculate the correlation matrix\n",
        "correlation_matrix = numeric_columns.corr()\n",
        "\n",
        "# Set the figure size for the heatmap\n",
        "plt.figure(figsize=(10, 8))\n",
        "\n",
        "# Plot the correlation heatmap\n",
        "sns.heatmap(correlation_matrix, annot=True, cmap='coolwarm', fmt='.2f', linewidths=0.5)\n",
        "\n",
        "# Add title to the plot\n",
        "plt.title('Correlation Heatmap')\n",
        "\n",
        "# Display the heatmap\n",
        "plt.show()\n"
      ],
      "metadata": {
        "id": "xyC9zolEZNRQ",
        "colab": {
          "base_uri": "https://localhost:8080/",
          "height": 692
        },
        "outputId": "f7dc12d8-2ccf-46e4-aad5-31bfe69027f1"
      },
      "execution_count": 43,
      "outputs": [
        {
          "output_type": "display_data",
          "data": {
            "text/plain": [
              "<Figure size 1000x800 with 2 Axes>"
            ],
            "image/png": "[encoded data removed]"
          },
          "metadata": {}
        }
      ]
    },
    {
      "cell_type": "markdown",
      "source": [
        "##### 1. Why did you pick the specific chart?"
      ],
      "metadata": {
        "id": "UV0SzAkaZNRQ"
      }
    },
    {
      "cell_type": "markdown",
      "source": [
        "The correlation heatmap is a common choice for exploring the strength and direction of correlations between multiple variables.\n",
        "\n",
        "A correlation heatmap is useful for identifying patterns and dependencies between different features. It helps in understanding which variables are positively or negatively correlated, which can be valuable for feature selection, identifying multicollinearity, and gaining insights into how variables interact with each other.\n",
        "\n"
      ],
      "metadata": {
        "id": "DVPuT8LYZNRQ"
      }
    },
    {
      "cell_type": "markdown",
      "source": [
        "##### 2. What is/are the insight(s) found from the chart?"
      ],
      "metadata": {
        "id": "YPEH6qLeZNRQ"
      }
    },
    {
      "cell_type": "markdown",
      "source": [
        "The following insights found from this chart:-----\n",
        "\n",
        "Strength of Correlation: The heatmap will show the strength of correlation between different pairs of variables. Variables with high positive correlation will appear with brighter colors, while variables with high negative correlation will have darker colors. This allows us to identify which variables are strongly related to each other.\n",
        "\n",
        "Direction of Correlation: The heatmap also helps determine the direction of the correlation, i.e., whether it is positive or negative. Positive correlation indicates that two variables increase or decrease together, while negative correlation suggests that one variable increases while the other decreases.\n",
        "\n",
        "Identifying Multicollinearity: Multicollinearity occurs when two or more variables are highly correlated with each other. A correlation heatmap can help identify such situations, which are essential for feature selection in regression and other predictive models.\n",
        "\n",
        "Feature Selection: Based on the insights gained from the correlation heatmap, you can choose to keep or drop certain variables from your dataset for model building. Highly correlated variables may not provide much additional information, so you might consider removing one of them to avoid redundancy.\n",
        "\n",
        "Identify Key Relationships: By analyzing the heatmap, you can identify which variables have the most significant impact on the target variable (in this case, 'daily_views'). These insights can help you focus on the most critical factors affecting the target variable in your analysis."
      ],
      "metadata": {
        "id": "bfSqtnDqZNRR"
      }
    },
    {
      "cell_type": "markdown",
      "source": [
        "#### Chart - 15 - Pair Plot"
      ],
      "metadata": {
        "id": "q29F0dvdveiT"
      }
    },
    {
      "cell_type": "code",
      "source": [
        "# Pair Plot visualization code"
      ],
      "metadata": {
        "id": "o58-TEIhveiU"
      },
      "execution_count": null,
      "outputs": []
    },
    {
      "cell_type": "markdown",
      "source": [
        "##### 1. Why did you pick the specific chart?"
      ],
      "metadata": {
        "id": "EXh0U9oCveiU"
      }
    },
    {
      "cell_type": "markdown",
      "source": [
        "Answer Here."
      ],
      "metadata": {
        "id": "eMmPjTByveiU"
      }
    },
    {
      "cell_type": "markdown",
      "source": [
        "##### 2. What is/are the insight(s) found from the chart?"
      ],
      "metadata": {
        "id": "22aHeOlLveiV"
      }
    },
    {
      "cell_type": "markdown",
      "source": [
        "Answer Here"
      ],
      "metadata": {
        "id": "uPQ8RGwHveiV"
      }
    },
    {
      "cell_type": "markdown",
      "source": [
        "## ***5. Hypothesis Testing***"
      ],
      "metadata": {
        "id": "g-ATYxFrGrvw"
      }
    },
    {
      "cell_type": "markdown",
      "source": [
        "### Based on your chart experiments, define three hypothetical statements from the dataset. In the next three questions, perform hypothesis testing to obtain final conclusion about the statements through your code and statistical testing."
      ],
      "metadata": {
        "id": "Yfr_Vlr8HBkt"
      }
    },
    {
      "cell_type": "markdown",
      "source": [
        "Answer Here."
      ],
      "metadata": {
        "id": "-7MS06SUHkB-"
      }
    },
    {
      "cell_type": "markdown",
      "source": [
        "### Hypothetical Statement - 1"
      ],
      "metadata": {
        "id": "8yEUt7NnHlrM"
      }
    },
    {
      "cell_type": "markdown",
      "source": [
        "#### 1. State Your research hypothesis as a null hypothesis and alternate hypothesis."
      ],
      "metadata": {
        "id": "tEA2Xm5dHt1r"
      }
    },
    {
      "cell_type": "markdown",
      "source": [
        "Answer Here."
      ],
      "metadata": {
        "id": "HI9ZP0laH0D-"
      }
    },
    {
      "cell_type": "markdown",
      "source": [
        "#### 2. Perform an appropriate statistical test."
      ],
      "metadata": {
        "id": "I79__PHVH19G"
      }
    },
    {
      "cell_type": "code",
      "source": [
        "# Perform Statistical Test to obtain P-Value"
      ],
      "metadata": {
        "id": "oZrfquKtyian"
      },
      "execution_count": null,
      "outputs": []
    },
    {
      "cell_type": "markdown",
      "source": [
        "##### Which statistical test have you done to obtain P-Value?"
      ],
      "metadata": {
        "id": "Ou-I18pAyIpj"
      }
    },
    {
      "cell_type": "markdown",
      "source": [
        "Answer Here."
      ],
      "metadata": {
        "id": "s2U0kk00ygSB"
      }
    },
    {
      "cell_type": "markdown",
      "source": [
        "##### Why did you choose the specific statistical test?"
      ],
      "metadata": {
        "id": "fF3858GYyt-u"
      }
    },
    {
      "cell_type": "markdown",
      "source": [
        "Answer Here."
      ],
      "metadata": {
        "id": "HO4K0gP5y3B4"
      }
    },
    {
      "cell_type": "markdown",
      "source": [
        "### Hypothetical Statement - 2"
      ],
      "metadata": {
        "id": "4_0_7-oCpUZd"
      }
    },
    {
      "cell_type": "markdown",
      "source": [
        "#### 1. State Your research hypothesis as a null hypothesis and alternate hypothesis."
      ],
      "metadata": {
        "id": "hwyV_J3ipUZe"
      }
    },
    {
      "cell_type": "markdown",
      "source": [
        "Answer Here."
      ],
      "metadata": {
        "id": "FnpLGJ-4pUZe"
      }
    },
    {
      "cell_type": "markdown",
      "source": [
        "#### 2. Perform an appropriate statistical test."
      ],
      "metadata": {
        "id": "3yB-zSqbpUZe"
      }
    },
    {
      "cell_type": "code",
      "source": [
        "# Perform Statistical Test to obtain P-Value"
      ],
      "metadata": {
        "id": "sWxdNTXNpUZe"
      },
      "execution_count": null,
      "outputs": []
    },
    {
      "cell_type": "markdown",
      "source": [
        "##### Which statistical test have you done to obtain P-Value?"
      ],
      "metadata": {
        "id": "dEUvejAfpUZe"
      }
    },
    {
      "cell_type": "markdown",
      "source": [
        "Answer Here."
      ],
      "metadata": {
        "id": "oLDrPz7HpUZf"
      }
    },
    {
      "cell_type": "markdown",
      "source": [
        "##### Why did you choose the specific statistical test?"
      ],
      "metadata": {
        "id": "Fd15vwWVpUZf"
      }
    },
    {
      "cell_type": "markdown",
      "source": [
        "Answer Here."
      ],
      "metadata": {
        "id": "4xOGYyiBpUZf"
      }
    },
    {
      "cell_type": "markdown",
      "source": [
        "### Hypothetical Statement - 3"
      ],
      "metadata": {
        "id": "bn_IUdTipZyH"
      }
    },
    {
      "cell_type": "markdown",
      "source": [
        "#### 1. State Your research hypothesis as a null hypothesis and alternate hypothesis."
      ],
      "metadata": {
        "id": "49K5P_iCpZyH"
      }
    },
    {
      "cell_type": "markdown",
      "source": [
        "Answer Here."
      ],
      "metadata": {
        "id": "7gWI5rT9pZyH"
      }
    },
    {
      "cell_type": "markdown",
      "source": [
        "#### 2. Perform an appropriate statistical test."
      ],
      "metadata": {
        "id": "Nff-vKELpZyI"
      }
    },
    {
      "cell_type": "code",
      "source": [
        "# Perform Statistical Test to obtain P-Value"
      ],
      "metadata": {
        "id": "s6AnJQjtpZyI"
      },
      "execution_count": null,
      "outputs": []
    },
    {
      "cell_type": "markdown",
      "source": [
        "##### Which statistical test have you done to obtain P-Value?"
      ],
      "metadata": {
        "id": "kLW572S8pZyI"
      }
    },
    {
      "cell_type": "markdown",
      "source": [
        "Answer Here."
      ],
      "metadata": {
        "id": "ytWJ8v15pZyI"
      }
    },
    {
      "cell_type": "markdown",
      "source": [
        "##### Why did you choose the specific statistical test?"
      ],
      "metadata": {
        "id": "dWbDXHzopZyI"
      }
    },
    {
      "cell_type": "markdown",
      "source": [
        "Answer Here."
      ],
      "metadata": {
        "id": "M99G98V6pZyI"
      }
    },
    {
      "cell_type": "markdown",
      "source": [
        "## ***6. Feature Engineering & Data Pre-processing***"
      ],
      "metadata": {
        "id": "yLjJCtPM0KBk"
      }
    },
    {
      "cell_type": "markdown",
      "source": [
        "### 1. Handling Missing Values"
      ],
      "metadata": {
        "id": "xiyOF9F70UgQ"
      }
    },
    {
      "cell_type": "code",
      "source": [
        "# Handling Missing Values & Missing Value Imputation"
      ],
      "metadata": {
        "id": "iRsAHk1K0fpS"
      },
      "execution_count": null,
      "outputs": []
    },
    {
      "cell_type": "markdown",
      "source": [
        "#### What all missing value imputation techniques have you used and why did you use those techniques?"
      ],
      "metadata": {
        "id": "7wuGOrhz0itI"
      }
    },
    {
      "cell_type": "markdown",
      "source": [
        "Answer Here."
      ],
      "metadata": {
        "id": "1ixusLtI0pqI"
      }
    },
    {
      "cell_type": "markdown",
      "source": [
        "### 2. Handling Outliers"
      ],
      "metadata": {
        "id": "id1riN9m0vUs"
      }
    },
    {
      "cell_type": "code",
      "source": [
        "# Handling Outliers & Outlier treatments"
      ],
      "metadata": {
        "id": "M6w2CzZf04JK"
      },
      "execution_count": null,
      "outputs": []
    },
    {
      "cell_type": "markdown",
      "source": [
        "##### What all outlier treatment techniques have you used and why did you use those techniques?"
      ],
      "metadata": {
        "id": "578E2V7j08f6"
      }
    },
    {
      "cell_type": "markdown",
      "source": [
        "Answer Here."
      ],
      "metadata": {
        "id": "uGZz5OrT1HH-"
      }
    },
    {
      "cell_type": "markdown",
      "source": [
        "### 3. Categorical Encoding"
      ],
      "metadata": {
        "id": "89xtkJwZ18nB"
      }
    },
    {
      "cell_type": "code",
      "source": [
        "# Encode your categorical columns"
      ],
      "metadata": {
        "id": "21JmIYMG2hEo"
      },
      "execution_count": null,
      "outputs": []
    },
    {
      "cell_type": "markdown",
      "source": [
        "#### What all categorical encoding techniques have you used & why did you use those techniques?"
      ],
      "metadata": {
        "id": "67NQN5KX2AMe"
      }
    },
    {
      "cell_type": "markdown",
      "source": [
        "Answer Here."
      ],
      "metadata": {
        "id": "UDaue5h32n_G"
      }
    },
    {
      "cell_type": "markdown",
      "source": [
        "### 4. Textual Data Preprocessing\n",
        "(It's mandatory for textual dataset i.e., NLP, Sentiment Analysis, Text Clustering etc.)"
      ],
      "metadata": {
        "id": "Iwf50b-R2tYG"
      }
    },
    {
      "cell_type": "markdown",
      "source": [
        "#### 1. Expand Contraction"
      ],
      "metadata": {
        "id": "GMQiZwjn3iu7"
      }
    },
    {
      "cell_type": "code",
      "source": [
        "# Expand Contraction"
      ],
      "metadata": {
        "id": "PTouz10C3oNN"
      },
      "execution_count": null,
      "outputs": []
    },
    {
      "cell_type": "markdown",
      "source": [
        "#### 2. Lower Casing"
      ],
      "metadata": {
        "id": "WVIkgGqN3qsr"
      }
    },
    {
      "cell_type": "code",
      "source": [
        "# Lower Casing"
      ],
      "metadata": {
        "id": "88JnJ1jN3w7j"
      },
      "execution_count": null,
      "outputs": []
    },
    {
      "cell_type": "markdown",
      "source": [
        "#### 3. Removing Punctuations"
      ],
      "metadata": {
        "id": "XkPnILGE3zoT"
      }
    },
    {
      "cell_type": "code",
      "source": [
        "# Remove Punctuations"
      ],
      "metadata": {
        "id": "vqbBqNaA33c0"
      },
      "execution_count": null,
      "outputs": []
    },
    {
      "cell_type": "markdown",
      "source": [
        "#### 4. Removing URLs & Removing words and digits contain digits."
      ],
      "metadata": {
        "id": "Hlsf0x5436Go"
      }
    },
    {
      "cell_type": "code",
      "source": [
        "# Remove URLs & Remove words and digits contain digits"
      ],
      "metadata": {
        "id": "2sxKgKxu4Ip3"
      },
      "execution_count": null,
      "outputs": []
    },
    {
      "cell_type": "markdown",
      "source": [
        "#### 5. Removing Stopwords & Removing White spaces"
      ],
      "metadata": {
        "id": "mT9DMSJo4nBL"
      }
    },
    {
      "cell_type": "code",
      "source": [
        "# Remove Stopwords"
      ],
      "metadata": {
        "id": "T2LSJh154s8W"
      },
      "execution_count": null,
      "outputs": []
    },
    {
      "cell_type": "code",
      "source": [
        "# Remove White spaces"
      ],
      "metadata": {
        "id": "EgLJGffy4vm0"
      },
      "execution_count": null,
      "outputs": []
    },
    {
      "cell_type": "markdown",
      "source": [
        "#### 6. Rephrase Text"
      ],
      "metadata": {
        "id": "c49ITxTc407N"
      }
    },
    {
      "cell_type": "code",
      "source": [
        "# Rephrase Text"
      ],
      "metadata": {
        "id": "foqY80Qu48N2"
      },
      "execution_count": null,
      "outputs": []
    },
    {
      "cell_type": "markdown",
      "source": [
        "#### 7. Tokenization"
      ],
      "metadata": {
        "id": "OeJFEK0N496M"
      }
    },
    {
      "cell_type": "code",
      "source": [
        "# Tokenization"
      ],
      "metadata": {
        "id": "ijx1rUOS5CUU"
      },
      "execution_count": null,
      "outputs": []
    },
    {
      "cell_type": "markdown",
      "source": [
        "#### 8. Text Normalization"
      ],
      "metadata": {
        "id": "9ExmJH0g5HBk"
      }
    },
    {
      "cell_type": "code",
      "source": [
        "# Normalizing Text (i.e., Stemming, Lemmatization etc.)"
      ],
      "metadata": {
        "id": "AIJ1a-Zc5PY8"
      },
      "execution_count": null,
      "outputs": []
    },
    {
      "cell_type": "markdown",
      "source": [
        "##### Which text normalization technique have you used and why?"
      ],
      "metadata": {
        "id": "cJNqERVU536h"
      }
    },
    {
      "cell_type": "markdown",
      "source": [
        "Answer Here."
      ],
      "metadata": {
        "id": "Z9jKVxE06BC1"
      }
    },
    {
      "cell_type": "markdown",
      "source": [
        "#### 9. Part of speech tagging"
      ],
      "metadata": {
        "id": "k5UmGsbsOxih"
      }
    },
    {
      "cell_type": "code",
      "source": [
        "# POS Taging"
      ],
      "metadata": {
        "id": "btT3ZJBAO6Ik"
      },
      "execution_count": null,
      "outputs": []
    },
    {
      "cell_type": "markdown",
      "source": [
        "#### 10. Text Vectorization"
      ],
      "metadata": {
        "id": "T0VqWOYE6DLQ"
      }
    },
    {
      "cell_type": "code",
      "source": [
        "# Vectorizing Text"
      ],
      "metadata": {
        "id": "yBRtdhth6JDE"
      },
      "execution_count": null,
      "outputs": []
    },
    {
      "cell_type": "markdown",
      "source": [
        "##### Which text vectorization technique have you used and why?"
      ],
      "metadata": {
        "id": "qBMux9mC6MCf"
      }
    },
    {
      "cell_type": "markdown",
      "source": [
        "Answer Here."
      ],
      "metadata": {
        "id": "su2EnbCh6UKQ"
      }
    },
    {
      "cell_type": "markdown",
      "source": [
        "### 4. Feature Manipulation & Selection"
      ],
      "metadata": {
        "id": "-oLEiFgy-5Pf"
      }
    },
    {
      "cell_type": "markdown",
      "source": [
        "#### 1. Feature Manipulation"
      ],
      "metadata": {
        "id": "C74aWNz2AliB"
      }
    },
    {
      "cell_type": "code",
      "source": [
        "# Manipulate Features to minimize feature correlation and create new features"
      ],
      "metadata": {
        "id": "h1qC4yhBApWC"
      },
      "execution_count": null,
      "outputs": []
    },
    {
      "cell_type": "markdown",
      "source": [
        "#### 2. Feature Selection"
      ],
      "metadata": {
        "id": "2DejudWSA-a0"
      }
    },
    {
      "cell_type": "code",
      "source": [
        "# Select your features wisely to avoid overfitting"
      ],
      "metadata": {
        "id": "YLhe8UmaBCEE"
      },
      "execution_count": null,
      "outputs": []
    },
    {
      "cell_type": "markdown",
      "source": [
        "##### What all feature selection methods have you used  and why?"
      ],
      "metadata": {
        "id": "pEMng2IbBLp7"
      }
    },
    {
      "cell_type": "markdown",
      "source": [
        "Answer Here."
      ],
      "metadata": {
        "id": "rb2Lh6Z8BgGs"
      }
    },
    {
      "cell_type": "markdown",
      "source": [
        "##### Which all features you found important and why?"
      ],
      "metadata": {
        "id": "rAdphbQ9Bhjc"
      }
    },
    {
      "cell_type": "markdown",
      "source": [
        "Answer Here."
      ],
      "metadata": {
        "id": "fGgaEstsBnaf"
      }
    },
    {
      "cell_type": "markdown",
      "source": [
        "### 5. Data Transformation"
      ],
      "metadata": {
        "id": "TNVZ9zx19K6k"
      }
    },
    {
      "cell_type": "markdown",
      "source": [
        "#### Do you think that your data needs to be transformed? If yes, which transformation have you used. Explain Why?"
      ],
      "metadata": {
        "id": "nqoHp30x9hH9"
      }
    },
    {
      "cell_type": "code",
      "source": [
        "# Transform Your data"
      ],
      "metadata": {
        "id": "I6quWQ1T9rtH"
      },
      "execution_count": null,
      "outputs": []
    },
    {
      "cell_type": "markdown",
      "source": [
        "### 6. Data Scaling"
      ],
      "metadata": {
        "id": "rMDnDkt2B6du"
      }
    },
    {
      "cell_type": "code",
      "source": [
        "# Scaling your data"
      ],
      "metadata": {
        "id": "dL9LWpySC6x_"
      },
      "execution_count": null,
      "outputs": []
    },
    {
      "cell_type": "markdown",
      "source": [
        "##### Which method have you used to scale you data and why?"
      ],
      "metadata": {
        "id": "yiiVWRdJDDil"
      }
    },
    {
      "cell_type": "markdown",
      "source": [
        "### 7. Dimesionality Reduction"
      ],
      "metadata": {
        "id": "1UUpS68QDMuG"
      }
    },
    {
      "cell_type": "markdown",
      "source": [
        "##### Do you think that dimensionality reduction is needed? Explain Why?"
      ],
      "metadata": {
        "id": "kexQrXU-DjzY"
      }
    },
    {
      "cell_type": "markdown",
      "source": [
        "Answer Here."
      ],
      "metadata": {
        "id": "GGRlBsSGDtTQ"
      }
    },
    {
      "cell_type": "code",
      "source": [
        "# DImensionality Reduction (If needed)"
      ],
      "metadata": {
        "id": "kQfvxBBHDvCa"
      },
      "execution_count": null,
      "outputs": []
    },
    {
      "cell_type": "markdown",
      "source": [
        "##### Which dimensionality reduction technique have you used and why? (If dimensionality reduction done on dataset.)"
      ],
      "metadata": {
        "id": "T5CmagL3EC8N"
      }
    },
    {
      "cell_type": "markdown",
      "source": [
        "Answer Here."
      ],
      "metadata": {
        "id": "ZKr75IDuEM7t"
      }
    },
    {
      "cell_type": "markdown",
      "source": [
        "### 8. Data Splitting"
      ],
      "metadata": {
        "id": "BhH2vgX9EjGr"
      }
    },
    {
      "cell_type": "code",
      "source": [
        "# Split your data to train and test. Choose Splitting ratio wisely."
      ],
      "metadata": {
        "id": "0CTyd2UwEyNM"
      },
      "execution_count": null,
      "outputs": []
    },
    {
      "cell_type": "markdown",
      "source": [
        "##### What data splitting ratio have you used and why?"
      ],
      "metadata": {
        "id": "qjKvONjwE8ra"
      }
    },
    {
      "cell_type": "markdown",
      "source": [
        "Answer Here."
      ],
      "metadata": {
        "id": "Y2lJ8cobFDb_"
      }
    },
    {
      "cell_type": "markdown",
      "source": [
        "### 9. Handling Imbalanced Dataset"
      ],
      "metadata": {
        "id": "P1XJ9OREExlT"
      }
    },
    {
      "cell_type": "markdown",
      "source": [
        "##### Do you think the dataset is imbalanced? Explain Why."
      ],
      "metadata": {
        "id": "VFOzZv6IFROw"
      }
    },
    {
      "cell_type": "markdown",
      "source": [
        "Answer Here."
      ],
      "metadata": {
        "id": "GeKDIv7pFgcC"
      }
    },
    {
      "cell_type": "code",
      "source": [
        "# Handling Imbalanced Dataset (If needed)"
      ],
      "metadata": {
        "id": "nQsRhhZLFiDs"
      },
      "execution_count": null,
      "outputs": []
    },
    {
      "cell_type": "markdown",
      "source": [
        "##### What technique did you use to handle the imbalance dataset and why? (If needed to be balanced)"
      ],
      "metadata": {
        "id": "TIqpNgepFxVj"
      }
    },
    {
      "cell_type": "markdown",
      "source": [
        "Answer Here."
      ],
      "metadata": {
        "id": "qbet1HwdGDTz"
      }
    },
    {
      "cell_type": "markdown",
      "source": [
        "## ***7. ML Model Implementation***"
      ],
      "metadata": {
        "id": "VfCC591jGiD4"
      }
    },
    {
      "cell_type": "markdown",
      "source": [
        "### ML Model - 1"
      ],
      "metadata": {
        "id": "OB4l2ZhMeS1U"
      }
    },
    {
      "cell_type": "code",
      "source": [
        "# ML Model - 1 Implementation\n",
        "\n",
        "# Fit the Algorithm\n",
        "\n",
        "# Predict on the model"
      ],
      "metadata": {
        "id": "7ebyywQieS1U"
      },
      "execution_count": null,
      "outputs": []
    },
    {
      "cell_type": "markdown",
      "source": [
        "#### 1. Explain the ML Model used and it's performance using Evaluation metric Score Chart."
      ],
      "metadata": {
        "id": "ArJBuiUVfxKd"
      }
    },
    {
      "cell_type": "code",
      "source": [
        "# Visualizing evaluation Metric Score chart"
      ],
      "metadata": {
        "id": "rqD5ZohzfxKe"
      },
      "execution_count": null,
      "outputs": []
    },
    {
      "cell_type": "markdown",
      "source": [
        "#### 2. Cross- Validation & Hyperparameter Tuning"
      ],
      "metadata": {
        "id": "4qY1EAkEfxKe"
      }
    },
    {
      "cell_type": "code",
      "source": [
        "# ML Model - 1 Implementation with hyperparameter optimization techniques (i.e., GridSearch CV, RandomSearch CV, Bayesian Optimization etc.)\n",
        "\n",
        "# Fit the Algorithm\n",
        "\n",
        "# Predict on the model"
      ],
      "metadata": {
        "id": "Dy61ujd6fxKe"
      },
      "execution_count": null,
      "outputs": []
    },
    {
      "cell_type": "markdown",
      "source": [
        "##### Which hyperparameter optimization technique have you used and why?"
      ],
      "metadata": {
        "id": "PiV4Ypx8fxKe"
      }
    },
    {
      "cell_type": "markdown",
      "source": [
        "Answer Here."
      ],
      "metadata": {
        "id": "negyGRa7fxKf"
      }
    },
    {
      "cell_type": "markdown",
      "source": [
        "##### Have you seen any improvement? Note down the improvement with updates Evaluation metric Score Chart."
      ],
      "metadata": {
        "id": "TfvqoZmBfxKf"
      }
    },
    {
      "cell_type": "markdown",
      "source": [
        "Answer Here."
      ],
      "metadata": {
        "id": "OaLui8CcfxKf"
      }
    },
    {
      "cell_type": "markdown",
      "source": [
        "### ML Model - 2"
      ],
      "metadata": {
        "id": "dJ2tPlVmpsJ0"
      }
    },
    {
      "cell_type": "markdown",
      "source": [
        "#### 1. Explain the ML Model used and it's performance using Evaluation metric Score Chart."
      ],
      "metadata": {
        "id": "JWYfwnehpsJ1"
      }
    },
    {
      "cell_type": "code",
      "source": [
        "# Visualizing evaluation Metric Score chart"
      ],
      "metadata": {
        "id": "yEl-hgQWpsJ1"
      },
      "execution_count": null,
      "outputs": []
    },
    {
      "cell_type": "markdown",
      "source": [
        "#### 2. Cross- Validation & Hyperparameter Tuning"
      ],
      "metadata": {
        "id": "-jK_YjpMpsJ2"
      }
    },
    {
      "cell_type": "code",
      "source": [
        "# ML Model - 1 Implementation with hyperparameter optimization techniques (i.e., GridSearch CV, RandomSearch CV, Bayesian Optimization etc.)\n",
        "\n",
        "# Fit the Algorithm\n",
        "\n",
        "# Predict on the model"
      ],
      "metadata": {
        "id": "Dn0EOfS6psJ2"
      },
      "execution_count": null,
      "outputs": []
    },
    {
      "cell_type": "markdown",
      "source": [
        "##### Which hyperparameter optimization technique have you used and why?"
      ],
      "metadata": {
        "id": "HAih1iBOpsJ2"
      }
    },
    {
      "cell_type": "markdown",
      "source": [
        "Answer Here."
      ],
      "metadata": {
        "id": "9kBgjYcdpsJ2"
      }
    },
    {
      "cell_type": "markdown",
      "source": [
        "##### Have you seen any improvement? Note down the improvement with updates Evaluation metric Score Chart."
      ],
      "metadata": {
        "id": "zVGeBEFhpsJ2"
      }
    },
    {
      "cell_type": "markdown",
      "source": [
        "Answer Here."
      ],
      "metadata": {
        "id": "74yRdG6UpsJ3"
      }
    },
    {
      "cell_type": "markdown",
      "source": [
        "#### 3. Explain each evaluation metric's indication towards business and the business impact pf the ML model used."
      ],
      "metadata": {
        "id": "bmKjuQ-FpsJ3"
      }
    },
    {
      "cell_type": "markdown",
      "source": [
        "Answer Here."
      ],
      "metadata": {
        "id": "BDKtOrBQpsJ3"
      }
    },
    {
      "cell_type": "markdown",
      "source": [
        "### ML Model - 3"
      ],
      "metadata": {
        "id": "Fze-IPXLpx6K"
      }
    },
    {
      "cell_type": "code",
      "source": [
        "# ML Model - 3 Implementation\n",
        "\n",
        "# Fit the Algorithm\n",
        "\n",
        "# Predict on the model"
      ],
      "metadata": {
        "id": "FFrSXAtrpx6M"
      },
      "execution_count": null,
      "outputs": []
    },
    {
      "cell_type": "markdown",
      "source": [
        "#### 1. Explain the ML Model used and it's performance using Evaluation metric Score Chart."
      ],
      "metadata": {
        "id": "7AN1z2sKpx6M"
      }
    },
    {
      "cell_type": "code",
      "source": [
        "# Visualizing evaluation Metric Score chart"
      ],
      "metadata": {
        "id": "xIY4lxxGpx6M"
      },
      "execution_count": null,
      "outputs": []
    },
    {
      "cell_type": "markdown",
      "source": [
        "#### 2. Cross- Validation & Hyperparameter Tuning"
      ],
      "metadata": {
        "id": "9PIHJqyupx6M"
      }
    },
    {
      "cell_type": "code",
      "source": [
        "# ML Model - 3 Implementation with hyperparameter optimization techniques (i.e., GridSearch CV, RandomSearch CV, Bayesian Optimization etc.)\n",
        "\n",
        "# Fit the Algorithm\n",
        "\n",
        "# Predict on the model"
      ],
      "metadata": {
        "id": "eSVXuaSKpx6M"
      },
      "execution_count": null,
      "outputs": []
    },
    {
      "cell_type": "markdown",
      "source": [
        "##### Which hyperparameter optimization technique have you used and why?"
      ],
      "metadata": {
        "id": "_-qAgymDpx6N"
      }
    },
    {
      "cell_type": "markdown",
      "source": [
        "Answer Here."
      ],
      "metadata": {
        "id": "lQMffxkwpx6N"
      }
    },
    {
      "cell_type": "markdown",
      "source": [
        "##### Have you seen any improvement? Note down the improvement with updates Evaluation metric Score Chart."
      ],
      "metadata": {
        "id": "Z-hykwinpx6N"
      }
    },
    {
      "cell_type": "markdown",
      "source": [
        "Answer Here."
      ],
      "metadata": {
        "id": "MzVzZC6opx6N"
      }
    },
    {
      "cell_type": "markdown",
      "source": [
        "### 1. Which Evaluation metrics did you consider for a positive business impact and why?"
      ],
      "metadata": {
        "id": "h_CCil-SKHpo"
      }
    },
    {
      "cell_type": "markdown",
      "source": [
        "Answer Here."
      ],
      "metadata": {
        "id": "jHVz9hHDKFms"
      }
    },
    {
      "cell_type": "markdown",
      "source": [
        "### 2. Which ML model did you choose from the above created models as your final prediction model and why?"
      ],
      "metadata": {
        "id": "cBFFvTBNJzUa"
      }
    },
    {
      "cell_type": "markdown",
      "source": [
        "Answer Here."
      ],
      "metadata": {
        "id": "6ksF5Q1LKTVm"
      }
    },
    {
      "cell_type": "markdown",
      "source": [
        "### 3. Explain the model which you have used and the feature importance using any model explainability tool?"
      ],
      "metadata": {
        "id": "HvGl1hHyA_VK"
      }
    },
    {
      "cell_type": "markdown",
      "source": [
        "Answer Here."
      ],
      "metadata": {
        "id": "YnvVTiIxBL-C"
      }
    },
    {
      "cell_type": "markdown",
      "source": [
        "## ***8.*** ***Future Work (Optional)***"
      ],
      "metadata": {
        "id": "EyNgTHvd2WFk"
      }
    },
    {
      "cell_type": "markdown",
      "source": [
        "### 1. Save the best performing ml model in a pickle file or joblib file format for deployment process.\n"
      ],
      "metadata": {
        "id": "KH5McJBi2d8v"
      }
    },
    {
      "cell_type": "code",
      "source": [
        "# Save the File"
      ],
      "metadata": {
        "id": "bQIANRl32f4J"
      },
      "execution_count": null,
      "outputs": []
    },
    {
      "cell_type": "markdown",
      "source": [
        "### 2. Again Load the saved model file and try to predict unseen data for a sanity check.\n"
      ],
      "metadata": {
        "id": "iW_Lq9qf2h6X"
      }
    },
    {
      "cell_type": "code",
      "source": [
        "# Load the File and predict unseen data."
      ],
      "metadata": {
        "id": "oEXk9ydD2nVC"
      },
      "execution_count": null,
      "outputs": []
    },
    {
      "cell_type": "markdown",
      "source": [
        "### ***Congrats! Your model is successfully created and ready for deployment on a live server for a real user interaction !!!***"
      ],
      "metadata": {
        "id": "-Kee-DAl2viO"
      }
    },
    {
      "cell_type": "markdown",
      "source": [
        "# **Conclusion**"
      ],
      "metadata": {
        "id": "gCX9965dhzqZ"
      }
    },
    {
      "cell_type": "markdown",
      "source": [
        "Write the conclusion here."
      ],
      "metadata": {
        "id": "Fjb1IsQkh3yE"
      }
    },
    {
      "cell_type": "markdown",
      "source": [
        "### ***Hurrah! You have successfully completed your Machine Learning Capstone Project !!!***"
      ],
      "metadata": {
        "id": "gIfDvo9L0UH2"
      }
    }
  ]
}